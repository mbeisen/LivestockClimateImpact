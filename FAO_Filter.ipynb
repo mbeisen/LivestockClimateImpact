{
 "cells": [
  {
   "cell_type": "markdown",
   "metadata": {},
   "source": [
    "### Load Python libraries"
   ]
  },
  {
   "cell_type": "code",
   "execution_count": 2,
   "metadata": {},
   "outputs": [],
   "source": [
    "import numpy as np\n",
    "import pandas as pd"
   ]
  },
  {
   "cell_type": "markdown",
   "metadata": {},
   "source": [
    "### Filter FAOSTAT Files\n",
    "\n",
    "To include only the data we use and make files small enough for GitHub."
   ]
  },
  {
   "cell_type": "code",
   "execution_count": 23,
   "metadata": {},
   "outputs": [],
   "source": [
    "file = \"../FAOSTAT/Production_LivestockPrimary_E_All_Data_(Normalized)/Production_LivestockPrimary_E_All_Data_(Normalized).csv\"\n",
    "fao = pd.read_csv(file)\n",
    "fao = fao[fao.Year == 2019]\n",
    "fao.to_csv(\"FAOSTAT/Filtered/Production_LivestockPrimary_E_All_Data_(Normalized).csv\", index=False)"
   ]
  },
  {
   "cell_type": "code",
   "execution_count": 24,
   "metadata": {},
   "outputs": [],
   "source": [
    "file = \"../FAOSTAT/Environment_Emissions_by_Sector_E_All_Data_(Normalized)/Environment_Emissions_by_Sector_E_All_Data_(Normalized).csv\"\n",
    "fao = pd.read_csv(file)\n",
    "fao = fao[fao.Area == \"World\"]\n",
    "fao.to_csv(\"FAOSTAT/Filtered/Environment_Emissions_by_Sector_E_All_Data_(Normalized).csv\", index=False)"
   ]
  },
  {
   "cell_type": "code",
   "execution_count": 25,
   "metadata": {},
   "outputs": [],
   "source": [
    "file = \"../FAOSTAT/FoodSupply_Crops_E_All_Data_(Normalized)/FoodSupply_Crops_E_All_Data_(Normalized).csv\"\n",
    "fao = pd.read_csv(file)\n",
    "fao = fao[(fao.Area == \"World\") & (fao.Year == 2013)]\n",
    "fao.to_csv(\"FAOSTAT/Filtered/FoodSupply_Crops_E_All_Data_(Normalized).csv\", index=False)"
   ]
  },
  {
   "cell_type": "code",
   "execution_count": 26,
   "metadata": {},
   "outputs": [],
   "source": [
    "file = \"../FAOSTAT/FoodSupply_LivestockFish_E_All_Data_(Normalized)/FoodSupply_LivestockFish_E_All_Data_(Normalized).csv\"\n",
    "fao = pd.read_csv(file)\n",
    "fao = fao[(fao.Area == \"World\") & (fao.Year == 2013)]\n",
    "fao.to_csv(\"FAOSTAT/Filtered/FoodSupply_LivestockFish_E_All_Data_(Normalized).csv\", index=False)"
   ]
  },
  {
   "cell_type": "code",
   "execution_count": null,
   "metadata": {},
   "outputs": [],
   "source": []
  }
 ],
 "metadata": {
  "kernelspec": {
   "display_name": "Python 3",
   "language": "python",
   "name": "python3"
  },
  "language_info": {
   "codemirror_mode": {
    "name": "ipython",
    "version": 3
   },
   "file_extension": ".py",
   "mimetype": "text/x-python",
   "name": "python",
   "nbconvert_exporter": "python",
   "pygments_lexer": "ipython3",
   "version": "3.8.3"
  }
 },
 "nbformat": 4,
 "nbformat_minor": 4
}
