{
 "cells": [
  {
   "cell_type": "markdown",
   "metadata": {},
   "source": [
    "# Eliminating Animal Agriculture Would Stabilize Atmospheric Greenhouse Gas Levels Through 2060, Providing Critical Time To Decarbonize Economy\n",
    "\n",
    "### Michael B. Eisen$^1$ and Patrick O. Brown$^2$\n",
    "\n",
    "$^1$ Department of Molecular and Cell Biology, Howard Hughes Medical Institute, University of California, Berkeley, Berkeley, CA.  \n",
    "$^2$ Impossible Foods, Redwood City, CA.  \n",
    "\n",
    "## Animal Agriculture is Destroying The Planet\n",
    "The raising and harvesting of animals for food has had, and continues to have a profoundly negative impact on our climate and environment. The reduction in steady-state biomass associated with the transformation of native ecosystems by introduction of grazing livestock or cultivation of feed and forage crops is responsible for a third of anthropogenic CO2 emissions to date (Hayek et al., 2021; Strassburg et al., 2020), and is the primary driver of the catastrophic biodiversity loss that has occurred over the past 50 years (Newbold et al., 2015). Livestock, especially large ruminants, and their supply chains, also dominate anthropogenic emissions of the potent greenhouse gases methane and nitrous oxide (Gerber et al., 2013; MacLeod et al., 2018; Steinfeld et al., 2006).  \n",
    "A global transition to a nutritionally balanced plant based diet is practical (Tilman and Clark, 2014; Willett et al., 2019), would have an immediate positive impact on greenhouse gas emissions (MacLeod et al., 2020, 2018; Steinfeld et al., 2006), biodiversity (Maron et al., 2018; Strassburg et al., 2020) and human health (Clark et al., 2019; Satija et al., 2017; Tilman and Clark, 2014), and could play an important role in climate-change mitigation (Gerber et al., 2013). However the potential overall impact on atmospheric greenhouse gases and climate remains poorly quantified and illustrated, and, as a result, underappreciated.   \n",
    "\n",
    "Using satellite imagery of biomass and geographically-resolved agricultural data, Hayek et al. recently estimated that the return of land currently used in livestock production to its native state would sequester, over 30 years, approximately 300 Gt of carbon in plants, soil microbes, and non-living biomass, relative to continuation of our current diet (Hayek et al., 2021). They refer to this as the “carbon opportunity cost” (COC) of animal agriculture. A similar estimate was obtained by (Strassburg et al., 2020).   \n",
    "\n",
    "To complete the picture, and obtain a full accounting of the COC of animal agriculture, here we use public data on livestock production and associated release of CO$_2$, CH$_4$ and N$_2$O to obtain updated estimates of emissions linked to animal agriculture. We then combine these results and data from (Hayek et al., 2021) to evaluate how the complete elimination of livestock associated emissions and the restoration of livestock associated land to its native state would impact atmospheric CO$_2$, CH$_4$ and N$_2$O levels and global warming for the remainder of the 21st century. \n",
    "We show that a global switch to a plant based diet would offset all human emissions for the next 30 years, and result in an effective elimination of 1,900 gigatons of CO$_2$ emissions this century, or approximately half of the reductions necessary to prevent global warming from exceeding 2˚C. \n"
   ]
  },
  {
   "cell_type": "markdown",
   "metadata": {},
   "source": [
    "### Load Python libraries"
   ]
  },
  {
   "cell_type": "code",
   "execution_count": 1,
   "metadata": {},
   "outputs": [],
   "source": [
    "import pandas as pd\n",
    "\n",
    "import numpy as np\n",
    "from numpy import interp\n",
    "\n",
    "import matplotlib.pyplot as plt\n",
    "from matplotlib.lines import Line2D\n",
    "from matplotlib.backends.backend_pdf import PdfPages\n",
    "import matplotlib.ticker as mticker\n",
    "import matplotlib.patches as patches\n",
    "\n",
    "from scipy.interpolate import interp1d\n",
    "from scipy.interpolate import splrep, splev\n",
    "from scipy.stats import linregress\n",
    "\n",
    "import fiona\n",
    "\n",
    "from sklearn.linear_model import LinearRegression\n",
    "from sklearn.linear_model import Ridge\n",
    "from sklearn.tree import DecisionTreeRegressor\n",
    "from sklearn.ensemble import RandomForestRegressor\n",
    "from sklearn.model_selection import train_test_split\n",
    "\n",
    "import textwrap as tw\n",
    "\n",
    "import rasterio as rs\n",
    "from rasterio.plot import show\n",
    "import rasterio.mask\n",
    "\n",
    "import xarray\n",
    "\n",
    "encoding = \"utf_8\""
   ]
  },
  {
   "cell_type": "markdown",
   "metadata": {},
   "source": [
    "### Definitions"
   ]
  },
  {
   "cell_type": "code",
   "execution_count": 2,
   "metadata": {},
   "outputs": [],
   "source": [
    "gases = ['CO2','CH4','N2O']\n",
    "gas_units = {'CO2' : 'ppm','CH4' : 'ppb', 'N2O' : 'ppb'}"
   ]
  },
  {
   "cell_type": "markdown",
   "metadata": {},
   "source": [
    "### Utility Functions"
   ]
  },
  {
   "cell_type": "code",
   "execution_count": 3,
   "metadata": {},
   "outputs": [],
   "source": [
    "# convert a string to an int if it can be\n",
    "# otherwise keep it a string\n",
    "\n",
    "def stoi(s):\n",
    "    try: \n",
    "        si = int(s)\n",
    "        return si\n",
    "    except ValueError:\n",
    "        return s"
   ]
  },
  {
   "cell_type": "markdown",
   "metadata": {},
   "source": [
    "# Estimating Animal Ag Emissions"
   ]
  },
  {
   "cell_type": "markdown",
   "metadata": {},
   "source": [
    "### FAOSTAT Country Data\n",
    "\n",
    "We need to use a consistent set of countries and country names. We use the FAOSTAT country list as our reference, and have accumulated a set of alternative names, punctuations and spellings from other datasets that we load here and use throughout."
   ]
  },
  {
   "cell_type": "code",
   "execution_count": 4,
   "metadata": {},
   "outputs": [],
   "source": [
    "country_group = pd.read_csv(\"FAOSTAT/FAOSTAT_Country_Group.csv\",encoding = encoding)\n",
    "fao_countries = list((pd.read_csv(\"Inputs/fao_countries.csv\", encoding = encoding))['Area'].unique())\n",
    "\n",
    "country_aliases = pd.read_csv(\"Inputs/country_aliases.csv\",encoding = encoding)\n",
    "country_alias_map = {}\n",
    "\n",
    "for i,r in country_aliases.iterrows():\n",
    "    country_alias_map[r['Alias']] = r['FAO Country']\n",
    "\n",
    "for faoc in fao_countries:\n",
    "    country_alias_map[faoc] = faoc"
   ]
  },
  {
   "cell_type": "markdown",
   "metadata": {},
   "source": [
    "### Species and Production Emissions Data From Global GLEAM 2.0 "
   ]
  },
  {
   "cell_type": "markdown",
   "metadata": {},
   "source": [
    "We use data from the United Nations Food and Agriculture Organization (FAO) Global Livestock Environmental Assessment Model [GLEAM](http://www.fao.org/gleam/resources/en/), version 2.0, to estimate gloabl emissions from animal agriculture. \n",
    "\n",
    "GLEAM is a modelling framework that simulates the interaction of activities and processes involved in livestock production and the environment. It was designed to allow policymakers to study the environmental consequences of changes in different steps of livestock supply chains. But we make use only of its baseline model of emissions broken down by species, product and region. \n",
    "\n",
    "We use the public data [available here]( http://www.fao.org/fileadmin/user_upload/gleam/docs/GLEAM_Data_public_release.xlsx).\n",
    "\n"
   ]
  },
  {
   "cell_type": "code",
   "execution_count": 5,
   "metadata": {},
   "outputs": [],
   "source": [
    "# This is a lookup table to connect category, product and production process from GLEAM to species/product pairs\n",
    "\n",
    "commodity_info = pd.DataFrame( data = \n",
    "    [\n",
    "        ['Meat','buffalo_meat','Buffalo','All systems','Whole herd'],\n",
    "        ['Meat','cattle_meat','Cattle','All systems','Whole herd'],\n",
    "        ['Meat','chicken_meat','Chickens','All systems','Whole herd'],\n",
    "        ['Meat','duck_meat','Chickens','All systems','Whole herd'], # no GLEAM data so use Chickens\n",
    "        ['Meat','goat_meat','Goats', 'All systems','Whole herd'],\n",
    "        ['Meat','sheep_meat','Sheep', 'All systems','Whole herd'],\n",
    "        ['Meat','pig_meat','Pigs', 'All systems','Whole herd'],\n",
    "        ['Milk','buffalo_milk','Buffalo','All systems','Dairy'],\n",
    "        ['Milk','cow_milk','Cattle','All systems','Whole herd'],\n",
    "        ['Milk','goat_milk','Goats','All systems','Whole herd'],\n",
    "        ['Milk','sheep_milk','Sheep','All systems','Whole herd'],\n",
    "        ['Eggs','eggs','Chickens','All systems','Whole herd']\n",
    "    ],\n",
    "    columns = ['Product Type','Category','Species','System','Type']\n",
    "            \n",
    ")"
   ]
  },
  {
   "cell_type": "code",
   "execution_count": 6,
   "metadata": {},
   "outputs": [],
   "source": [
    "prods = ['Meat','Milk','Eggs']\n",
    "\n",
    "gleam_var = {\n",
    "    'Meat' : 'PROD: Meat - carcass weight', \n",
    "    'Milk' : 'PROD: Milk - fresh weight', \n",
    "    'Eggs' : 'PROD: Eggs - shell weight'\n",
    "}"
   ]
  },
  {
   "cell_type": "code",
   "execution_count": 7,
   "metadata": {},
   "outputs": [],
   "source": [
    "# GLEAM expresses gas-specific emission intensities in terms of emissions per unit protein\n",
    "# These factors, which are derived from data in GLEAM, allow for conversion of protein units to FAO production units \n",
    "# carcass weight for meat\n",
    "# liquid weight for milk\n",
    "# shell weight for eggs\n",
    "\n",
    "# use data from old version of GLEAM to get conversion from protein to production units\n",
    "\n",
    "gleamall = pd.read_csv(\"GLEAM/GLEAM.csv\", encoding=encoding)\n",
    "df = pd.pivot_table(gleamall,index=['Species','System','Country','Type'],columns=['Variable'],aggfunc={'Value' : sum}).reset_index()\n",
    "df.columns = df.columns = [c[0] for c in df.columns[0:4]] + [c[1] for c in df.columns[4:]]\n",
    "df = df.groupby(['Species']).sum().reset_index()\n",
    "df['CONV: Eggs'] = df['PROD: Eggs - shell weight']/df['PROD: Eggs - protein amount']\n",
    "df['CONV: Milk'] = df['PROD: Milk - fresh weight']/df['PROD: Milk - protein amount']\n",
    "df['CONV: Meat'] = df['PROD: Meat - carcass weight']/df['PROD: Meat - protein amount']\n",
    "df[['Species'] + [c for c in df.columns if c.startswith('CONV')]]\n",
    "\n",
    "data = []\n",
    "for i,r in df.iterrows():\n",
    "    for c in ['Eggs','Milk','Meat']:\n",
    "        if r['CONV: %s' %c] > 0:\n",
    "            data.append([r.Species,c,r['CONV: %s' %c]])\n",
    "            \n",
    "conversions = pd.DataFrame(data=data,columns=['Species','Commodity','Conversion'])\n",
    "conversions = conversions.set_index(['Species','Commodity'])\n",
    "conversions.loc[('Buffalo','Milk'),'Conversion'] = conversions.loc[('Cattle','Milk')]['Conversion']\n",
    "conversions = conversions.reset_index()"
   ]
  },
  {
   "cell_type": "code",
   "execution_count": 8,
   "metadata": {
    "scrolled": false
   },
   "outputs": [
    {
     "data": {
      "text/html": [
       "<div>\n",
       "<style scoped>\n",
       "    .dataframe tbody tr th:only-of-type {\n",
       "        vertical-align: middle;\n",
       "    }\n",
       "\n",
       "    .dataframe tbody tr th {\n",
       "        vertical-align: top;\n",
       "    }\n",
       "\n",
       "    .dataframe thead th {\n",
       "        text-align: right;\n",
       "    }\n",
       "</style>\n",
       "<table border=\"1\" class=\"dataframe\">\n",
       "  <thead>\n",
       "    <tr style=\"text-align: right;\">\n",
       "      <th></th>\n",
       "      <th>Species</th>\n",
       "      <th>Commodity</th>\n",
       "      <th>Conversion</th>\n",
       "    </tr>\n",
       "  </thead>\n",
       "  <tbody>\n",
       "    <tr>\n",
       "      <th>0</th>\n",
       "      <td>Buffalo</td>\n",
       "      <td>Milk</td>\n",
       "      <td>29.656719</td>\n",
       "    </tr>\n",
       "    <tr>\n",
       "      <th>1</th>\n",
       "      <td>Buffalo</td>\n",
       "      <td>Meat</td>\n",
       "      <td>6.928637</td>\n",
       "    </tr>\n",
       "    <tr>\n",
       "      <th>2</th>\n",
       "      <td>Cattle</td>\n",
       "      <td>Milk</td>\n",
       "      <td>29.656719</td>\n",
       "    </tr>\n",
       "    <tr>\n",
       "      <th>3</th>\n",
       "      <td>Cattle</td>\n",
       "      <td>Meat</td>\n",
       "      <td>6.506834</td>\n",
       "    </tr>\n",
       "    <tr>\n",
       "      <th>4</th>\n",
       "      <td>Chickens</td>\n",
       "      <td>Eggs</td>\n",
       "      <td>8.064516</td>\n",
       "    </tr>\n",
       "    <tr>\n",
       "      <th>5</th>\n",
       "      <td>Chickens</td>\n",
       "      <td>Meat</td>\n",
       "      <td>7.017544</td>\n",
       "    </tr>\n",
       "    <tr>\n",
       "      <th>6</th>\n",
       "      <td>Goats</td>\n",
       "      <td>Milk</td>\n",
       "      <td>26.690530</td>\n",
       "    </tr>\n",
       "    <tr>\n",
       "      <th>7</th>\n",
       "      <td>Goats</td>\n",
       "      <td>Meat</td>\n",
       "      <td>7.440476</td>\n",
       "    </tr>\n",
       "    <tr>\n",
       "      <th>8</th>\n",
       "      <td>Pigs</td>\n",
       "      <td>Meat</td>\n",
       "      <td>7.616146</td>\n",
       "    </tr>\n",
       "    <tr>\n",
       "      <th>9</th>\n",
       "      <td>Sheep</td>\n",
       "      <td>Milk</td>\n",
       "      <td>16.485994</td>\n",
       "    </tr>\n",
       "    <tr>\n",
       "      <th>10</th>\n",
       "      <td>Sheep</td>\n",
       "      <td>Meat</td>\n",
       "      <td>7.096728</td>\n",
       "    </tr>\n",
       "  </tbody>\n",
       "</table>\n",
       "</div>"
      ],
      "text/plain": [
       "     Species Commodity  Conversion\n",
       "0    Buffalo      Milk   29.656719\n",
       "1    Buffalo      Meat    6.928637\n",
       "2     Cattle      Milk   29.656719\n",
       "3     Cattle      Meat    6.506834\n",
       "4   Chickens      Eggs    8.064516\n",
       "5   Chickens      Meat    7.017544\n",
       "6      Goats      Milk   26.690530\n",
       "7      Goats      Meat    7.440476\n",
       "8       Pigs      Meat    7.616146\n",
       "9      Sheep      Milk   16.485994\n",
       "10     Sheep      Meat    7.096728"
      ]
     },
     "execution_count": 8,
     "metadata": {},
     "output_type": "execute_result"
    }
   ],
   "source": [
    "conversions"
   ]
  },
  {
   "cell_type": "code",
   "execution_count": 9,
   "metadata": {},
   "outputs": [],
   "source": [
    "gleam2 =  pd.read_excel(open(\"GLEAM/GLEAM_Data_public_release.xlsx\", 'rb'),sheet_name = \"GLEAM_GRL\", skiprows=2)\n",
    "\n",
    "# harmonize  names\n",
    "\n",
    "gleam2.loc[gleam2[gleam2.Species == \"Buffaloes\"].index,'Species'] = \"Buffalo\"\n",
    "gleam2.loc[gleam2[gleam2.Species == \"Chicken\"].index,'Species'] = \"Chickens\"\n",
    "\n",
    "# select products\n",
    "\n",
    "gleam2 = gleam2[gleam2.Commodity.isin(prods)]\n",
    "gleam2 = gleam2.merge(conversions,on=[\"Species\",\"Commodity\"],how=\"left\")\n",
    "\n",
    "for gas in gases:\n",
    "    gleam2['EI_%s_perkg' % (gas)] = gleam2['Total %s' % gas] / (gleam2['Production'] * gleam2['Conversion'])\n",
    "gleam2[(gleam2.Region == \"Global\") & (gleam2.System == \"Aggregated\")]\n",
    "df = gleam2[(gleam2.Region == \"Global\") & (gleam2.System == \"Aggregated\")].copy()\n",
    "\n",
    "# adjust CO2eq --> Gt (CO2) or Mt (CH4 and N2O)\n",
    "for c in df:\n",
    "    if 'CO2' in c and 'EI' not in c:\n",
    "        df[c] = df[c] / 1E+12\n",
    "        \n",
    "    if 'CH4' in c and 'EI' not in c:\n",
    "        df[c] = df[c] / (34 * 1E+9)\n",
    "        \n",
    "    if 'N2O' in c and 'EI' not in c:\n",
    "        df[c] = df[c] / (298 * 1E+9)"
   ]
  },
  {
   "cell_type": "code",
   "execution_count": 10,
   "metadata": {},
   "outputs": [],
   "source": [
    "gleam2_c = pd.read_excel(open(\"GLEAM/GLEAM_Data_public_release.xlsx\", 'rb'),sheet_name = \"COUNTRY_LIST\", index_col=None, header=None, names=[\"Country\"])\n",
    "\n",
    "data = []\n",
    "region = \"\"\n",
    "\n",
    "for i,r in gleam2_c.iterrows():\n",
    "    if r.Country[0:3] == \"   \":\n",
    "        data.append([region,r.Country[3:]])\n",
    "    else:\n",
    "        region = r.Country\n",
    "        \n",
    "gleam2_countries = pd.DataFrame(data=data,columns=['Region','Country'])\n",
    "\n",
    "gleam2['Region'] = gleam2['Region'].str.upper()\n",
    "gleam2c = gleam2_countries.merge(gleam2,on=\"Region\",how='left')\n",
    "gleam2c = gleam2c[gleam2c.System == \"Aggregated\"]\n",
    "\n",
    "gleam2c['Country Mapped'] = gleam2c['Country'].map(country_alias_map)\n",
    "gleam2c_countries = gleam2c['Country Mapped'].unique()\n",
    "\n",
    "gleam2c = gleam2c[['Country Mapped','Species', 'System', 'Commodity', 'EI_CO2_perkg', 'EI_CH4_perkg', 'EI_N2O_perkg']]\n",
    "gleam2c.columns = ['Area','Species', 'System', 'Product', 'EI_CO2_perkg', 'EI_CH4_perkg', 'EI_N2O_perkg']"
   ]
  },
  {
   "cell_type": "markdown",
   "metadata": {},
   "source": [
    "### Load FAO Primary Production Data"
   ]
  },
  {
   "cell_type": "code",
   "execution_count": 11,
   "metadata": {},
   "outputs": [],
   "source": [
    "datafile = \"Inputs/FAOSTAT_production_categories.csv\"\n",
    "fao_production_categories = pd.read_csv(datafile,encoding = encoding)\n",
    "        \n",
    "datafile = \"FAOSTAT/Filtered/Production_LivestockPrimary_E_All_Data_(Normalized).csv\"\n",
    "\n",
    "fao_livestock_primary = pd.read_csv(datafile,encoding = \"latin_1\")\n",
    "    \n",
    "year = np.max(fao_livestock_primary.Year.values)\n",
    "fao_livestock_primary = fao_livestock_primary[\n",
    "        (fao_livestock_primary.Area.isin(fao_countries)) \n",
    "        & (fao_livestock_primary.Year == year) \n",
    "        & (fao_livestock_primary.Element == 'Production' ) \n",
    "        & (fao_livestock_primary.Unit == \"tonnes\")]\n",
    "fao_livestock_primary.Value = fao_livestock_primary.Value.astype('Int64')\n",
    "fao_livestock_primary = fao_livestock_primary.merge(fao_production_categories, on = \"Item\")\n",
    "fao_livestock_primary['Primary Production'] = fao_livestock_primary['Value'] * fao_livestock_primary['Category Weight']\n",
    "fao_livestock_primary = fao_livestock_primary[['Area','Category','Primary Production']].groupby(['Area','Category']).sum().reset_index()"
   ]
  },
  {
   "cell_type": "markdown",
   "metadata": {},
   "source": [
    "### Join GLEAM and FAO Livestock Data to Estimate Current Animal Ag Emissions"
   ]
  },
  {
   "cell_type": "code",
   "execution_count": 12,
   "metadata": {},
   "outputs": [],
   "source": [
    "livestock_data = fao_livestock_primary.copy()\n",
    "\n",
    "incols = list(livestock_data.columns)\n",
    "\n",
    "# create columns for Emissions data\n",
    "for gas in gases:\n",
    "    livestock_data['Emissions|%s' % gas] = 0\n",
    "\n",
    "livestock_data = livestock_data.merge(commodity_info,on=\"Category\",how=\"left\")\n",
    "livestock_data = livestock_data.merge(gleam2c, \n",
    "            left_on=['Area','Product Type','Species'], \n",
    "            right_on=['Area','Product','Species'],\n",
    "            how=\"left\")\n",
    "\n",
    "# GLEAM uses AR5 numbers for GWP\n",
    "gwp = {\n",
    "    'CO2' : 1,\n",
    "    'CH4' : 34,\n",
    "    'N2O' : 298\n",
    "}\n",
    "\n",
    "# scale from Gt --> Mt for CH4 and N2O\n",
    "\n",
    "scale = {\n",
    "    'CO2' : 1,\n",
    "    'CH4' : 1000,\n",
    "    'N2O' : 1000\n",
    "}\n",
    "\n",
    "\n",
    "for gas in gases:\n",
    "    livestock_data['Emissions|%s' % gas] =  ( livestock_data['Primary Production'] \n",
    "    * livestock_data['EI_%s_perkg' % (gas)] \n",
    "    * scale[gas]\n",
    "    / gwp[gas]\n",
    "    / 1E+09 )\n",
    "\n",
    "    \n",
    "livestock_data = livestock_data[incols + ['Emissions|%s' % gas  for gas in gases]]"
   ]
  },
  {
   "cell_type": "code",
   "execution_count": 13,
   "metadata": {},
   "outputs": [
    {
     "data": {
      "text/html": [
       "<div>\n",
       "<style scoped>\n",
       "    .dataframe tbody tr th:only-of-type {\n",
       "        vertical-align: middle;\n",
       "    }\n",
       "\n",
       "    .dataframe tbody tr th {\n",
       "        vertical-align: top;\n",
       "    }\n",
       "\n",
       "    .dataframe thead th {\n",
       "        text-align: right;\n",
       "    }\n",
       "</style>\n",
       "<table border=\"1\" class=\"dataframe\">\n",
       "  <thead>\n",
       "    <tr style=\"text-align: right;\">\n",
       "      <th></th>\n",
       "      <th>Primary Production</th>\n",
       "      <th>Emissions|CO2</th>\n",
       "      <th>Emissions|CH4</th>\n",
       "      <th>Emissions|N2O</th>\n",
       "    </tr>\n",
       "    <tr>\n",
       "      <th>Category</th>\n",
       "      <th></th>\n",
       "      <th></th>\n",
       "      <th></th>\n",
       "      <th></th>\n",
       "    </tr>\n",
       "  </thead>\n",
       "  <tbody>\n",
       "    <tr>\n",
       "      <th>ass_meat</th>\n",
       "      <td>164977.0</td>\n",
       "      <td>0.0</td>\n",
       "      <td>0.0</td>\n",
       "      <td>0.0</td>\n",
       "    </tr>\n",
       "    <tr>\n",
       "      <th>buffalo_meat</th>\n",
       "      <td>4290212.0</td>\n",
       "      <td>0.02885</td>\n",
       "      <td>5.000432</td>\n",
       "      <td>0.198579</td>\n",
       "    </tr>\n",
       "    <tr>\n",
       "      <th>buffalo_milk</th>\n",
       "      <td>133752296.0</td>\n",
       "      <td>0.121331</td>\n",
       "      <td>10.872296</td>\n",
       "      <td>0.445477</td>\n",
       "    </tr>\n",
       "    <tr>\n",
       "      <th>camel_meat</th>\n",
       "      <td>685667.0</td>\n",
       "      <td>0.0</td>\n",
       "      <td>0.0</td>\n",
       "      <td>0.0</td>\n",
       "    </tr>\n",
       "    <tr>\n",
       "      <th>camel_milk</th>\n",
       "      <td>3111462.0</td>\n",
       "      <td>0.0</td>\n",
       "      <td>0.0</td>\n",
       "      <td>0.0</td>\n",
       "    </tr>\n",
       "    <tr>\n",
       "      <th>cattle_meat</th>\n",
       "      <td>68281663.0</td>\n",
       "      <td>0.615803</td>\n",
       "      <td>49.302813</td>\n",
       "      <td>2.412017</td>\n",
       "    </tr>\n",
       "    <tr>\n",
       "      <th>chicken_meat</th>\n",
       "      <td>123973557.0</td>\n",
       "      <td>0.440367</td>\n",
       "      <td>0.293461</td>\n",
       "      <td>0.52061</td>\n",
       "    </tr>\n",
       "    <tr>\n",
       "      <th>cow_milk</th>\n",
       "      <td>715871270.0</td>\n",
       "      <td>0.357411</td>\n",
       "      <td>37.680716</td>\n",
       "      <td>1.778157</td>\n",
       "    </tr>\n",
       "    <tr>\n",
       "      <th>duck_meat</th>\n",
       "      <td>7363110.0</td>\n",
       "      <td>0.036057</td>\n",
       "      <td>0.023576</td>\n",
       "      <td>0.049332</td>\n",
       "    </tr>\n",
       "    <tr>\n",
       "      <th>eggs</th>\n",
       "      <td>88431696.0</td>\n",
       "      <td>0.221156</td>\n",
       "      <td>0.574015</td>\n",
       "      <td>0.353017</td>\n",
       "    </tr>\n",
       "    <tr>\n",
       "      <th>goat_meat</th>\n",
       "      <td>6248372.0</td>\n",
       "      <td>0.020656</td>\n",
       "      <td>3.340025</td>\n",
       "      <td>0.113621</td>\n",
       "    </tr>\n",
       "    <tr>\n",
       "      <th>goat_milk</th>\n",
       "      <td>19910379.0</td>\n",
       "      <td>0.010325</td>\n",
       "      <td>1.743089</td>\n",
       "      <td>0.063117</td>\n",
       "    </tr>\n",
       "    <tr>\n",
       "      <th>horse_meat</th>\n",
       "      <td>740133.0</td>\n",
       "      <td>0.0</td>\n",
       "      <td>0.0</td>\n",
       "      <td>0.0</td>\n",
       "    </tr>\n",
       "    <tr>\n",
       "      <th>mule_meat</th>\n",
       "      <td>15337.0</td>\n",
       "      <td>0.0</td>\n",
       "      <td>0.0</td>\n",
       "      <td>0.0</td>\n",
       "    </tr>\n",
       "    <tr>\n",
       "      <th>pig_meat</th>\n",
       "      <td>110102495.0</td>\n",
       "      <td>0.359273</td>\n",
       "      <td>7.18942</td>\n",
       "      <td>0.615933</td>\n",
       "    </tr>\n",
       "    <tr>\n",
       "      <th>rabbit_meat</th>\n",
       "      <td>771856.0</td>\n",
       "      <td>0.0</td>\n",
       "      <td>0.0</td>\n",
       "      <td>0.0</td>\n",
       "    </tr>\n",
       "    <tr>\n",
       "      <th>rodent_meat</th>\n",
       "      <td>18753.0</td>\n",
       "      <td>0.0</td>\n",
       "      <td>0.0</td>\n",
       "      <td>0.0</td>\n",
       "    </tr>\n",
       "    <tr>\n",
       "      <th>sheep_meat</th>\n",
       "      <td>9913245.0</td>\n",
       "      <td>0.031857</td>\n",
       "      <td>5.021942</td>\n",
       "      <td>0.325204</td>\n",
       "    </tr>\n",
       "    <tr>\n",
       "      <th>sheep_milk</th>\n",
       "      <td>10587020.0</td>\n",
       "      <td>0.010104</td>\n",
       "      <td>1.724321</td>\n",
       "      <td>0.1215</td>\n",
       "    </tr>\n",
       "  </tbody>\n",
       "</table>\n",
       "</div>"
      ],
      "text/plain": [
       "              Primary Production  Emissions|CO2  Emissions|CH4  Emissions|N2O\n",
       "Category                                                                     \n",
       "ass_meat                164977.0            0.0            0.0            0.0\n",
       "buffalo_meat           4290212.0        0.02885       5.000432       0.198579\n",
       "buffalo_milk         133752296.0       0.121331      10.872296       0.445477\n",
       "camel_meat              685667.0            0.0            0.0            0.0\n",
       "camel_milk             3111462.0            0.0            0.0            0.0\n",
       "cattle_meat           68281663.0       0.615803      49.302813       2.412017\n",
       "chicken_meat         123973557.0       0.440367       0.293461        0.52061\n",
       "cow_milk             715871270.0       0.357411      37.680716       1.778157\n",
       "duck_meat              7363110.0       0.036057       0.023576       0.049332\n",
       "eggs                  88431696.0       0.221156       0.574015       0.353017\n",
       "goat_meat              6248372.0       0.020656       3.340025       0.113621\n",
       "goat_milk             19910379.0       0.010325       1.743089       0.063117\n",
       "horse_meat              740133.0            0.0            0.0            0.0\n",
       "mule_meat                15337.0            0.0            0.0            0.0\n",
       "pig_meat             110102495.0       0.359273        7.18942       0.615933\n",
       "rabbit_meat             771856.0            0.0            0.0            0.0\n",
       "rodent_meat              18753.0            0.0            0.0            0.0\n",
       "sheep_meat             9913245.0       0.031857       5.021942       0.325204\n",
       "sheep_milk            10587020.0       0.010104       1.724321         0.1215"
      ]
     },
     "execution_count": 13,
     "metadata": {},
     "output_type": "execute_result"
    }
   ],
   "source": [
    "livestock_data.groupby('Category').sum()"
   ]
  },
  {
   "cell_type": "markdown",
   "metadata": {},
   "source": [
    "### Estimate Species, Product and Country-Specific Land Use\n",
    "\n",
    "We use average land use data from Figure 1 of (Poore and Nemecek, 2018) to estimate land use associated with different species and products. We use data for cattle meat for buffalo meat, and cow milk for milk from buffalo, goat and sheep. The data are reported in million $m^2$/year/(100g protein) except for milk which is reported in $m^2$/year/liter which we convert to $m^2$/year/(kg primary production) using conversion factors inferred from GLEAM. As above, we used data on domestic production and trade to convert tonnes of primary production equivalents to land use. "
   ]
  },
  {
   "cell_type": "code",
   "execution_count": 14,
   "metadata": {},
   "outputs": [],
   "source": [
    "animal_land_data = [\n",
    "       ['cattle_meat', 1640.0, 6.506834],\n",
    "       ['buffalo_meat', 1640.0, 6.928637],\n",
    "       ['goat_meat', 1000.0, 7.440476],\n",
    "       ['sheep_meat', 1850.0, 7.096728],\n",
    "       ['pig_meat', 110.0, 7.616146],\n",
    "       ['chicken_meat', 71.0, 7.017544],\n",
    "       ['duck_meat', 71.0, 7.017544],\n",
    "       ['cow_milk', 8.9, 1],\n",
    "       ['buffalo_milk', 8.9, 1],\n",
    "       ['goat_milk', 8.9, 1 ],\n",
    "       ['sheep_milk', 8.9, 1],\n",
    "       ['eggs', 57.0, 8.06],\n",
    "]\n",
    "\n",
    "animal_land = pd.DataFrame(data=animal_land_data,columns=['Category','land use protein','protein ratio'])\n",
    "\n",
    "# the 1000 is kg --> tonne\n",
    "# the 1E+12 if m2 --> Mkm2\n",
    "    \n",
    "animal_land['land use per tonne'] = (animal_land['land use protein'] / animal_land['protein ratio']) * 1000 / 1E+12\n",
    "incols = list(livestock_data.columns)\n",
    "livestock_data = livestock_data.merge(animal_land,on=\"Category\",how='left')\n",
    "livestock_data['Land Use'] = livestock_data['Primary Production'] * livestock_data['land use per tonne']\n",
    "livestock_data = livestock_data[incols + ['Land Use']]"
   ]
  },
  {
   "cell_type": "code",
   "execution_count": 15,
   "metadata": {},
   "outputs": [],
   "source": [
    "commodity_info_conversion = commodity_info.merge(conversions,left_on=['Species','Product Type'],right_on=['Species','Commodity'])\n",
    "commodity_info_conversion = commodity_info_conversion[['Category','Species','Product Type','Conversion']]\n",
    "\n",
    "livestock_data = livestock_data.merge(commodity_info_conversion,on=\"Category\")\n",
    "livestock_data['Protein Production'] = livestock_data['Primary Production'] / livestock_data['Conversion']\n",
    "livestock_data['Emissions|CO2|Replacement'] = livestock_data['Protein Production'] * 1000 * 2.0 / 1E+12\n",
    "livestock_data['Land Use|Replacement'] = livestock_data['Protein Production'] * 1000 * 8.0 / 1E+12\n",
    "livestock_data.to_csv(\"Outputs/livestock_data.csv\",index=False)"
   ]
  },
  {
   "cell_type": "code",
   "execution_count": 16,
   "metadata": {},
   "outputs": [
    {
     "data": {
      "text/plain": [
       "Index(['Area', 'Category', 'Primary Production', 'Emissions|CO2',\n",
       "       'Emissions|CH4', 'Emissions|N2O', 'Land Use', 'Species', 'Product Type',\n",
       "       'Conversion', 'Protein Production', 'Emissions|CO2|Replacement',\n",
       "       'Land Use|Replacement'],\n",
       "      dtype='object')"
      ]
     },
     "execution_count": 16,
     "metadata": {},
     "output_type": "execute_result"
    }
   ],
   "source": [
    "livestock_data.columns"
   ]
  },
  {
   "cell_type": "code",
   "execution_count": 17,
   "metadata": {
    "scrolled": true
   },
   "outputs": [],
   "source": [
    "cols = ['Area', 'Category', 'Primary Production', 'Emissions|CO2',\n",
    "       'Emissions|CH4', 'Emissions|N2O', 'Land Use', 'Protein Production', 'Emissions|CO2|Replacement',\n",
    "       'Land Use|Replacement']\n",
    "\n",
    "livestock_cat_data = livestock_data[cols].groupby('Category').sum(numeric_only=True)"
   ]
  },
  {
   "cell_type": "markdown",
   "metadata": {},
   "source": [
    "### Start to Populate Emissions/Land Table"
   ]
  },
  {
   "cell_type": "code",
   "execution_count": 18,
   "metadata": {},
   "outputs": [],
   "source": [
    "cols = ['Area', 'Category', 'Primary Production', 'Emissions|CO2',\n",
    "       'Emissions|CH4', 'Emissions|N2O', 'Land Use', 'Protein Production', 'Emissions|CO2|Replacement',\n",
    "       'Land Use|Replacement']\n",
    "\n",
    "df = livestock_data[cols].set_index(['Area','Category']).stack().reset_index()\n",
    "df.columns = ['Area','Category','Item','Animal Ag']\n",
    "emland_cat = df.groupby(['Category','Item']).sum().reset_index()\n",
    "emland_cat = emland_cat.set_index(['Category','Item'])\n",
    "emland = df.groupby('Item').sum().reset_index()\n",
    "emland = emland.set_index('Item')"
   ]
  },
  {
   "cell_type": "markdown",
   "metadata": {},
   "source": [
    "## Emissions and Land Use of All Agriculture"
   ]
  },
  {
   "cell_type": "code",
   "execution_count": 19,
   "metadata": {},
   "outputs": [],
   "source": [
    "datafile = \"FAOSTAT/Filtered/Environment_Emissions_by_Sector_E_All_Data_(Normalized).csv\"\n",
    "fao_emissions = pd.read_csv(datafile,encoding = \"latin_1\")\n",
    "fao_emissions = fao_emissions[fao_emissions.Area == \"World\"]\n",
    "fao_emissions_pt = fao_emissions.pivot_table(index=['Item','Element','Unit'], columns=['Year'],aggfunc={'Value' : sum}).reset_index()\n",
    "fao_emissions_pt.columns = [c[0] for c in fao_emissions_pt.columns[0:3]] + [c[1] for c in fao_emissions_pt.columns[3:]]\n",
    "for y in [2018,2019]:\n",
    "    fao_emissions_pt[y] = fao_emissions_pt[2000] + (y/2017) * (fao_emissions_pt[2017] - fao_emissions_pt[2000])\n",
    "fao_emissions_pt = fao_emissions_pt.set_index(['Item','Element'])"
   ]
  },
  {
   "cell_type": "code",
   "execution_count": 20,
   "metadata": {},
   "outputs": [],
   "source": [
    "emland ['All Ag'] = np.nan\n",
    "\n",
    "emland.loc['Emissions|CO2','All Ag'] = fao_emissions_pt.loc[('Agriculture and related land use','CO2 emissions')][2019] / 1E+06\n",
    "emland.loc['Emissions|CH4','All Ag'] = fao_emissions_pt.loc[('Agriculture total','CH4 emissions')][2019] / 1E+03\n",
    "emland.loc['Emissions|N2O','All Ag'] = fao_emissions_pt.loc[('Agriculture total','N2O emissions')][2019] / 1E+03\n",
    "\n",
    "# Direct from FAOSTAT\n",
    "emland.loc['Land Use','All Ag'] = 4801370.2776 * 10 / 1000000"
   ]
  },
  {
   "cell_type": "code",
   "execution_count": 21,
   "metadata": {},
   "outputs": [],
   "source": [
    "emland.loc['Emissions|CO2','Total'] = fao_emissions_pt.loc[('Total emissions with agricultural land use','CO2 emissions')][2018] / 1E+6\n",
    "emland.loc['Emissions|CH4','Total'] = fao_emissions_pt.loc[('Total emissions with agricultural land use','CH4 emissions')][2018] / 1E+3\n",
    "emland.loc['Emissions|N2O','Total'] = fao_emissions_pt.loc[('Total emissions with agricultural land use','N2O emissions')][2018] / 1E+3"
   ]
  },
  {
   "cell_type": "code",
   "execution_count": 22,
   "metadata": {},
   "outputs": [],
   "source": [
    "emland['No Ag'] = emland['Total'] - emland['All Ag']\n",
    "emland['Non-Animal Ag'] = emland['All Ag'] - emland['Animal Ag']\n",
    "\n",
    "emland['Food:BAU'] = emland['All Ag']\n",
    "emland['Food:Plant'] = 1.25 * emland['Non-Animal Ag']\n",
    "emland.loc['Emissions|CO2','Food:Plant'] = 0"
   ]
  },
  {
   "cell_type": "code",
   "execution_count": 79,
   "metadata": {
    "scrolled": true
   },
   "outputs": [],
   "source": [
    "data = []\n",
    "\n",
    "for i,r in emland_cat.reset_index().groupby('Category'):\n",
    "    rr = r.set_index('Item')\n",
    "    primary_fraction = rr.loc['Primary Production']['Animal Ag'] / emland.loc['Primary Production']['Animal Ag']\n",
    "    protein_fraction = rr.loc['Protein Production']['Animal Ag'] / emland.loc['Protein Production']['Animal Ag']\n",
    "    land_fraction = rr.loc['Land Use']['Animal Ag'] / emland.loc['Land Use']['Animal Ag']\n",
    "    data.append([i,primary_fraction,protein_fraction,land_fraction])\n",
    "\n",
    "df = emland_cat.reset_index()\n",
    "\n",
    "groups = {\n",
    "    'Bovid' : ['cattle_meat','cow_milk','buffalo_meat','buffalo_milk'],\n",
    "    'Ruminant' : ['cattle_meat','buffalo_meat','goat_meat','sheep_meat','cow_milk','buffalo_milk','goat_milk','sheep_milk'],\n",
    "    'Ruminant Meat' : ['cattle_meat','buffalo_meat','goat_meat','sheep_meat'],\n",
    "    'Ruminant Milk' : ['cow_milk','buffalo_milk','goat_milk','sheep_milk']\n",
    "}\n",
    "\n",
    "for group in groups:\n",
    "    r = df[df.Category.isin(groups[group])]\n",
    "    rr = r.set_index('Item')\n",
    "    primary_fraction = rr.loc['Primary Production']['Animal Ag'].sum() / emland.loc['Primary Production']['Animal Ag'].sum()\n",
    "    protein_fraction = rr.loc['Protein Production']['Animal Ag'].sum() / emland.loc['Protein Production']['Animal Ag'].sum()\n",
    "    land_fraction = rr.loc['Land Use']['Animal Ag'].sum() / emland.loc['Land Use']['Animal Ag'].sum()\n",
    "    data.append([group,primary_fraction,protein_fraction,land_fraction])\n",
    "\n",
    "cat_fractions = pd.DataFrame(data=data,columns=['Category','Primary Fraction','Protein Fraction','Land Fraction']).set_index('Category')"
   ]
  },
  {
   "cell_type": "code",
   "execution_count": 80,
   "metadata": {},
   "outputs": [
    {
     "data": {
      "text/html": [
       "<div>\n",
       "<style scoped>\n",
       "    .dataframe tbody tr th:only-of-type {\n",
       "        vertical-align: middle;\n",
       "    }\n",
       "\n",
       "    .dataframe tbody tr th {\n",
       "        vertical-align: top;\n",
       "    }\n",
       "\n",
       "    .dataframe thead th {\n",
       "        text-align: right;\n",
       "    }\n",
       "</style>\n",
       "<table border=\"1\" class=\"dataframe\">\n",
       "  <thead>\n",
       "    <tr style=\"text-align: right;\">\n",
       "      <th></th>\n",
       "      <th>Primary Fraction</th>\n",
       "      <th>Protein Fraction</th>\n",
       "      <th>Land Fraction</th>\n",
       "    </tr>\n",
       "    <tr>\n",
       "      <th>Category</th>\n",
       "      <th></th>\n",
       "      <th></th>\n",
       "      <th></th>\n",
       "    </tr>\n",
       "  </thead>\n",
       "  <tbody>\n",
       "    <tr>\n",
       "      <th>buffalo_meat</th>\n",
       "      <td>0.003303</td>\n",
       "      <td>0.007075</td>\n",
       "      <td>0.030747</td>\n",
       "    </tr>\n",
       "    <tr>\n",
       "      <th>buffalo_milk</th>\n",
       "      <td>0.102987</td>\n",
       "      <td>0.051529</td>\n",
       "      <td>0.036043</td>\n",
       "    </tr>\n",
       "    <tr>\n",
       "      <th>cattle_meat</th>\n",
       "      <td>0.052576</td>\n",
       "      <td>0.119897</td>\n",
       "      <td>0.521088</td>\n",
       "    </tr>\n",
       "    <tr>\n",
       "      <th>chicken_meat</th>\n",
       "      <td>0.095458</td>\n",
       "      <td>0.201845</td>\n",
       "      <td>0.037978</td>\n",
       "    </tr>\n",
       "    <tr>\n",
       "      <th>cow_milk</th>\n",
       "      <td>0.551211</td>\n",
       "      <td>0.275794</td>\n",
       "      <td>0.192911</td>\n",
       "    </tr>\n",
       "    <tr>\n",
       "      <th>duck_meat</th>\n",
       "      <td>0.005669</td>\n",
       "      <td>0.011988</td>\n",
       "      <td>0.002256</td>\n",
       "    </tr>\n",
       "    <tr>\n",
       "      <th>eggs</th>\n",
       "      <td>0.068091</td>\n",
       "      <td>0.125286</td>\n",
       "      <td>0.018936</td>\n",
       "    </tr>\n",
       "    <tr>\n",
       "      <th>goat_meat</th>\n",
       "      <td>0.004811</td>\n",
       "      <td>0.009595</td>\n",
       "      <td>0.025427</td>\n",
       "    </tr>\n",
       "    <tr>\n",
       "      <th>goat_milk</th>\n",
       "      <td>0.015331</td>\n",
       "      <td>0.008523</td>\n",
       "      <td>0.005365</td>\n",
       "    </tr>\n",
       "    <tr>\n",
       "      <th>pig_meat</th>\n",
       "      <td>0.084777</td>\n",
       "      <td>0.165172</td>\n",
       "      <td>0.048149</td>\n",
       "    </tr>\n",
       "    <tr>\n",
       "      <th>sheep_meat</th>\n",
       "      <td>0.007633</td>\n",
       "      <td>0.015960</td>\n",
       "      <td>0.078246</td>\n",
       "    </tr>\n",
       "    <tr>\n",
       "      <th>sheep_milk</th>\n",
       "      <td>0.008152</td>\n",
       "      <td>0.007337</td>\n",
       "      <td>0.002853</td>\n",
       "    </tr>\n",
       "    <tr>\n",
       "      <th>Bovid</th>\n",
       "      <td>0.710077</td>\n",
       "      <td>0.454295</td>\n",
       "      <td>0.780790</td>\n",
       "    </tr>\n",
       "    <tr>\n",
       "      <th>Ruminant</th>\n",
       "      <td>0.746004</td>\n",
       "      <td>0.495710</td>\n",
       "      <td>0.892681</td>\n",
       "    </tr>\n",
       "    <tr>\n",
       "      <th>Ruminant Meat</th>\n",
       "      <td>0.068324</td>\n",
       "      <td>0.152526</td>\n",
       "      <td>0.655508</td>\n",
       "    </tr>\n",
       "    <tr>\n",
       "      <th>Ruminant Milk</th>\n",
       "      <td>0.677681</td>\n",
       "      <td>0.343183</td>\n",
       "      <td>0.237173</td>\n",
       "    </tr>\n",
       "  </tbody>\n",
       "</table>\n",
       "</div>"
      ],
      "text/plain": [
       "               Primary Fraction  Protein Fraction  Land Fraction\n",
       "Category                                                        \n",
       "buffalo_meat           0.003303          0.007075       0.030747\n",
       "buffalo_milk           0.102987          0.051529       0.036043\n",
       "cattle_meat            0.052576          0.119897       0.521088\n",
       "chicken_meat           0.095458          0.201845       0.037978\n",
       "cow_milk               0.551211          0.275794       0.192911\n",
       "duck_meat              0.005669          0.011988       0.002256\n",
       "eggs                   0.068091          0.125286       0.018936\n",
       "goat_meat              0.004811          0.009595       0.025427\n",
       "goat_milk              0.015331          0.008523       0.005365\n",
       "pig_meat               0.084777          0.165172       0.048149\n",
       "sheep_meat             0.007633          0.015960       0.078246\n",
       "sheep_milk             0.008152          0.007337       0.002853\n",
       "Bovid                  0.710077          0.454295       0.780790\n",
       "Ruminant               0.746004          0.495710       0.892681\n",
       "Ruminant Meat          0.068324          0.152526       0.655508\n",
       "Ruminant Milk          0.677681          0.343183       0.237173"
      ]
     },
     "execution_count": 80,
     "metadata": {},
     "output_type": "execute_result"
    }
   ],
   "source": [
    "cat_fractions"
   ]
  },
  {
   "cell_type": "code",
   "execution_count": 25,
   "metadata": {},
   "outputs": [],
   "source": [
    "for cat in [c for c in list(cat_fractions.index) if c not in groups]:\n",
    "    cid = 'Food:No:%s' % cat\n",
    "    emland[cid] = 0\n",
    "    for gas in ['CH4','N2O']:\n",
    "        emland.loc['Emissions|%s' % gas,cid] = emland.loc['Emissions|%s' % gas]['Food:BAU'] - emland_cat.loc[cat,'Emissions|%s' % gas]['Animal Ag']\n",
    "    gas = \"CO2\"\n",
    "    emland.loc['Emissions|%s' % gas,cid] = emland.loc['Emissions|%s' % gas]['Food:BAU'] - cat_fractions.loc[cat]['Land Fraction'] * emland.loc['Emissions|CO2']['Animal Ag']\n",
    "    \n",
    "for group in groups:\n",
    "    cid = 'Food:No:%s' % group\n",
    "    emland[cid] = 0\n",
    "    for gas in ['CH4','N2O']:\n",
    "        emland.loc['Emissions|%s' % gas,cid] = emland.loc['Emissions|%s' % gas]['Food:BAU']\n",
    "        for cat in groups[group]:\n",
    "            emland.loc['Emissions|%s' % gas,cid] -= emland_cat.loc[cat,'Emissions|%s' % gas]['Animal Ag']\n",
    "        \n",
    "    gas = \"CO2\"\n",
    "    emland.loc['Emissions|%s' % gas,cid] = emland.loc['Emissions|%s' % gas]['Food:BAU']\n",
    "    for cat in groups[group]:\n",
    "        emland.loc['Emissions|%s' % gas,cid] -= cat_fractions.loc[cat]['Land Fraction'] * emland.loc['Emissions|CO2']['Animal Ag']\n"
   ]
  },
  {
   "cell_type": "markdown",
   "metadata": {},
   "source": [
    "##  Radiative Forcing \n",
    "\n",
    "Radiative forcing (RF) is defined as the difference between solar irradiance absorbed by the Earth and energy radiated back to space. RF combines the warming influence of difference gases together into a single number. It is measured in units of $Wm^{-2}$.\n",
    "\n",
    "Increasing positive values of RF mean Earth is receiving correspondingly more incoming energy from sunlight than it radiates to space, causing increased warming. Strategies to mitigate global warming are often expressed in terms of RF targets."
   ]
  },
  {
   "cell_type": "markdown",
   "metadata": {},
   "source": [
    "Following [MAGICC](http://wiki.magicc.org/index.php?title=Radiative_Forcing) and IPCC AR5, we use the formula for Radiative Forcings as described in [Myhre et al. 1998](https://agupubs.onlinelibrary.wiley.com/doi/abs/10.1029/98GL01908) and [Ramaswamy et al., 2001](https://www.ipcc.ch/site/assets/uploads/2018/03/TAR-06.pdf).\n",
    "\n",
    "For atmospheric concentrations of ${\\rm CO_{2}}$ of ${\\rm C}$ ppm, ${\\rm CH_{4}}$ of ${\\rm M}$ ppb, ${\\rm N_{2}O}$ of ${\\rm N}$ ppb. \n",
    "\n",
    "$\\Delta F = \\Delta F_{\\rm CO_2}+\\Delta F_{\\rm CH_4}+\\Delta F_{\\rm N_{2}O}$ \n",
    "\n",
    "where:  \n",
    "\n",
    "${\\rm C_0}, {\\rm M_0}, {\\rm N_0}$ are the preindustrial concentrations of ${\\rm CO_{2}}$ in ppm, ${\\rm CH_{4}}$ in ppb, ${\\rm N_{2}O}$ in ppb. \n",
    "\n",
    "$\\Delta F_{\\rm CO_2}=\\alpha_{\\rm CO_2}{\\rm ln} (\\rm C/C_0)$ \n",
    "\n",
    "$\\Delta F_{\\rm CH_4} = \\alpha_{\\rm CH_4}((1+\\beta_{\\rm CH_4})(\\sqrt{\\rm M}-\\sqrt{\\rm M_0})-f({\\rm M},{\\rm N_0})-f({\\rm M_0},{\\rm N_0}))$\n",
    "\n",
    "$\\Delta F_{\\rm N_2O} = \\alpha_{\\rm N_2O}(\\sqrt{\\rm N}-\\sqrt{\\rm N_0}-f({\\rm M_0},{\\rm N})-f({\\rm M_0},{\\rm N_0})$\n",
    "\n",
    "$f(\\rm M,N)=0.47{\\rm ln}\\,(1+0.6356(\\frac{\\rm MN}{10^6})^{0.75}+0.007\\frac{\\rm M}{10^3}(\\frac{\\rm MN}{10^6})^{1.52})$\n",
    "\n",
    "$\\alpha_{\\rm CO_2}=5.35$\n",
    "\n",
    "$\\alpha_{\\rm CH_4}=0.036$\n",
    "\n",
    "$\\beta_{\\rm CH_4}=0.15$\n",
    "\n",
    "$\\alpha_{\\rm N_{2}O}=0.12$\n"
   ]
  },
  {
   "cell_type": "code",
   "execution_count": 26,
   "metadata": {},
   "outputs": [],
   "source": [
    "def F_MAGICC(M,N):\n",
    "    F = 0.47 * np.log(1 + 0.6356 * np.power(M*N/1E6,0.75) + 0.007 * (M/1E3) * np.power(M*N/1E6,1.52))\n",
    "    return F\n",
    "    \n",
    "def RF_MAGICC(C,M,N):\n",
    "    \n",
    "    C0 = 278\n",
    "    M0 = 700\n",
    "    N0 = 270\n",
    "    \n",
    "    AC = 5.35\n",
    "    AM = 0.036\n",
    "    AN = 0.12\n",
    "    \n",
    "    beta = 0.15\n",
    "    \n",
    "    rf_co2 = AC*np.log(C/C0) \n",
    "    rf_ch4 = AM*((1+beta) * (np.sqrt(M) - np.sqrt(M0)) - F_MAGICC(M,N0) - F_MAGICC(M0,N0))\n",
    "    rf_n2o = AN*(np.sqrt(N) - np.sqrt(N0) - F_MAGICC(M0,N) - F_MAGICC(M0,N0))\n",
    "    \n",
    "    rf = rf_co2 + rf_ch4 + rf_n2o\n",
    "    \n",
    "    return(rf_co2,rf_ch4,rf_n2o,rf)\n",
    "\n",
    "def RF_AR5(C,M,N):\n",
    "        \n",
    "    C0 = 278\n",
    "    M0 = 772\n",
    "    N0 = 270\n",
    "\n",
    "    C2011 = 0\n",
    "    M2011 = 0\n",
    "    N2011 = 0\n",
    "\n",
    "    DC = (C2011 - C0)\n",
    "    DM = (M2011 - M0)\n",
    "    DN = (N2011 - N0)\n",
    "    \n",
    "    rf_ar5_CO2 = 1.68 * (C - C0) / DC\n",
    "    rf_ar5_CH4 = 0.97 * (M - M0) / DM\n",
    "    rf_ar5_N2O = 0.17 * (N - N0) / DN"
   ]
  },
  {
   "cell_type": "markdown",
   "metadata": {},
   "source": [
    "## Cross-check RF Calculation Against MAGICC Output in SSP/IAMs"
   ]
  },
  {
   "cell_type": "code",
   "execution_count": 27,
   "metadata": {},
   "outputs": [],
   "source": [
    "ssp_iam = pd.read_csv(\"SSP/SSP_IAM_V2_201811.csv/SSP_IAM_V2_201811.csv\")\n",
    "iamc = ssp_iam.set_index(list(ssp_iam.columns[0:5]))\n",
    "df = pd.DataFrame(data=iamc.stack()).reset_index()\n",
    "df.columns = ['Model','Scenario','Region','Variable','Unit','Year','Value']\n",
    "dfp = pd.pivot_table(df,index=['Model','Scenario','Region','Year'],columns='Variable',aggfunc={'Value' : sum}).reset_index()\n",
    "dfp.columns = list([c[0] for c in dfp.columns[0:4]]) + list([c[1] for c in dfp.columns[4:]])"
   ]
  },
  {
   "cell_type": "code",
   "execution_count": 28,
   "metadata": {},
   "outputs": [],
   "source": [
    "C = dfp['Diagnostics|MAGICC6|Concentration|CO2']\n",
    "M = dfp['Diagnostics|MAGICC6|Concentration|CH4']\n",
    "N = dfp['Diagnostics|MAGICC6|Concentration|N2O']"
   ]
  },
  {
   "cell_type": "code",
   "execution_count": 29,
   "metadata": {},
   "outputs": [],
   "source": [
    "def RF_MAGICC_XC(C,M,N):\n",
    "    \n",
    "    C0 = 277.04\n",
    "    M0 = 679\n",
    "    N0 = 270.5\n",
    "    \n",
    "    AC = 5.35\n",
    "    AM = 0.036\n",
    "    AN = 0.12\n",
    "    \n",
    "    beta = 0 # reported numbers don't include correction\n",
    "    \n",
    "    rf_co2 = AC*np.log(C/C0) \n",
    "    rf_ch4 = AM*((1+beta) * (np.sqrt(M) - np.sqrt(M0)) - F_MAGICC(M,N0) - F_MAGICC(M0,N0))\n",
    "    rf_n2o = AN*(np.sqrt(N) - np.sqrt(N0) - F_MAGICC(M0,N) - F_MAGICC(M0,N0))\n",
    "    \n",
    "    rf = rf_co2 + rf_ch4 + rf_n2o\n",
    "    \n",
    "    return(rf_co2,rf_ch4,rf_n2o,rf)\n",
    "\n",
    "LRC,LRM,LRN,LR = RF_MAGICC_XC(C,M,N)\n",
    "MRC = dfp['Diagnostics|MAGICC6|Forcing|CO2']\n",
    "MRM = dfp['Diagnostics|MAGICC6|Forcing|CH4']\n",
    "MRN = dfp['Diagnostics|MAGICC6|Forcing|N2O']\n",
    "MRF = dfp['Diagnostics|MAGICC6|Forcing']\n",
    "MR = MRC + MRM + MRN"
   ]
  },
  {
   "cell_type": "code",
   "execution_count": 30,
   "metadata": {},
   "outputs": [
    {
     "data": {
      "text/plain": [
       "Text(0, 0.5, 'LOCAL RF')"
      ]
     },
     "execution_count": 30,
     "metadata": {},
     "output_type": "execute_result"
    },
    {
     "data": {
      "image/png": "[encoded data removed]",
      "text/plain": [
       "<Figure size 360x360 with 1 Axes>"
      ]
     },
     "metadata": {
      "needs_background": "light"
     },
     "output_type": "display_data"
    }
   ],
   "source": [
    "plt.figure(figsize=(5,5))\n",
    "plt.scatter(MR,LR)\n",
    "plt.plot(np.linspace(0,10,100),np.linspace(0,10,100),c='red')\n",
    "plt.xlabel(\"MAGICC6 RF\")\n",
    "plt.ylabel(\"LOCAL RF\")"
   ]
  },
  {
   "cell_type": "markdown",
   "metadata": {},
   "source": [
    "## Train multivariate linear regression to fit effect of other gases"
   ]
  },
  {
   "cell_type": "code",
   "execution_count": 31,
   "metadata": {},
   "outputs": [],
   "source": [
    "dfp['RF3'] = dfp['Diagnostics|MAGICC6|Forcing|CO2'] + dfp['Diagnostics|MAGICC6|Forcing|CH4'] + dfp['Diagnostics|MAGICC6|Forcing|N2O'] \n",
    "dfp['RFD'] = dfp['Diagnostics|MAGICC6|Forcing'] - dfp['RF3']"
   ]
  },
  {
   "cell_type": "code",
   "execution_count": 32,
   "metadata": {},
   "outputs": [],
   "source": [
    "d = dfp[dfp.RF3 < 6][['Diagnostics|MAGICC6|Concentration|CO2','Diagnostics|MAGICC6|Concentration|CH4','Diagnostics|MAGICC6|Concentration|N2O','RFD']].dropna().values\n",
    "X = d[:,0:3]\n",
    "y = d[:,3]\n",
    "rflr = LinearRegression()\n",
    "rflr.fit(X,y)\n",
    "\n",
    "def RF_cMAGICC(C,M,N):\n",
    "    try:\n",
    "        X_in = np.array([[x,M,N] for x in C])\n",
    "    except:\n",
    "        X_in = np.array([[C,M,N]])\n",
    "    (x,y,z,r) = RF_MAGICC(C,M,N)\n",
    "    d = rflr.predict(X_in)\n",
    "    return  d + r\n",
    "\n",
    "def RF_MAGICC_CORR(C,M,N):\n",
    "    \n",
    "    X_in = np.stack((C,M,N),axis=1)\n",
    "    (x,y,z,r) = RF_MAGICC(C,M,N)\n",
    "    d = rflr.predict(X_in)\n",
    "    return  d + r"
   ]
  },
  {
   "cell_type": "markdown",
   "metadata": {},
   "source": [
    "## Modeling Emission Scenarios and Atmospheric GHG Levels"
   ]
  },
  {
   "cell_type": "code",
   "execution_count": 33,
   "metadata": {},
   "outputs": [],
   "source": [
    "model_years = np.arange(2020,2200)\n",
    "\n",
    "halflife = {\n",
    "    'CO2': 1000,\n",
    "    'CH4': 9,\n",
    "    'N2O': 115\n",
    "}\n",
    "\n",
    "annualdecay = {\n",
    "    'CO2': 1,\n",
    "    'CH4': np.power(.5,1/halflife['CH4']),\n",
    "    'N2O': np.power(.5,1/halflife['N2O'])\n",
    "}\n",
    "\n",
    "nona = {\n",
    "    'CO2' : 0,\n",
    "    'CH4' : (1-annualdecay['CH4']) * 717.76,\n",
    "    'N2O' : (1-annualdecay['N2O']) * 269.55\n",
    "}\n",
    "\n",
    "# adjusted to fit with MAGICC projections\n",
    "nona_fit = {\n",
    "    'CO2' : 0,\n",
    "    'CH4' : 25,\n",
    "    'N2O' : 1.0 # 1.63 fits historical data\n",
    "}\n",
    "\n",
    "to_atm = {\n",
    "    'CO2' : .5,\n",
    "    'CH4' : 1,\n",
    "    'N2O' : 1\n",
    "}\n",
    "\n",
    "to_Mt = {\n",
    "    'CO2' : 1000,\n",
    "    'CH4' : 1,\n",
    "    'N2O' : 1\n",
    "}\n",
    "\n",
    "pp_scale = {\n",
    "    'CO2' : (1/1000),\n",
    "    'CH4' : 1,\n",
    "    'N2O' : 1\n",
    "}\n",
    "\n",
    "mw = {\n",
    "    'CO2' : 44,\n",
    "    'CH4' : 16,\n",
    "    'N2O' : 44\n",
    "}\n",
    "\n",
    "pp_start = {\n",
    "    'CO2': 409.819034,\n",
    "    'CH4': 1863.93445,\n",
    "    'N2O': 332.538751\n",
    "}\n",
    "\n",
    "cr = {\n",
    "    'CO2' : 1,\n",
    "    'CH4' : 0,\n",
    "    'N2O' : 0,\n",
    "}\n",
    "\n",
    "# Amount of carbon Hayek et al. estimate would be fixed over 30 years with a transformation to a plant only diet\n",
    "\n",
    "# Reported in gigatonnes C\n",
    "\n",
    "c_oc = 216\n",
    "\n",
    "# convert gigatonnes C to gigatonnes CO2\n",
    "\n",
    "co2_oc = c_oc * 44 / 12"
   ]
  },
  {
   "cell_type": "code",
   "execution_count": 284,
   "metadata": {},
   "outputs": [],
   "source": [
    "def RunScenarios(emissions,\n",
    "                to_Mt = to_Mt,\n",
    "                mw = mw,\n",
    "                pp_scale = pp_scale,\n",
    "                pp_start = pp_start,\n",
    "                annualdecay = annualdecay,\n",
    "                to_atm = to_atm,\n",
    "                nona = nona_fit\n",
    "                ):\n",
    "    concentration = {}\n",
    "    for gas in gases:\n",
    "        p = emissions[gas] * to_Mt[gas] * 1.0E12 * (1/mw[gas]) * (1/1.8E11) * pp_scale[gas]\n",
    "        a = np.zeros(len(emissions[gas]))\n",
    "        a[0] = pp_start[gas]\n",
    "        for i in range(1,len(a)):\n",
    "            a[i] = a[i-1] * annualdecay[gas] + p[i-1] * to_atm[gas] + nona[gas]\n",
    "        concentration[gas] = a\n",
    "    return concentration"
   ]
  },
  {
   "cell_type": "markdown",
   "metadata": {},
   "source": [
    "# Scenario Modeling"
   ]
  },
  {
   "cell_type": "code",
   "execution_count": 686,
   "metadata": {},
   "outputs": [],
   "source": [
    "scenarios = pd.DataFrame(data=model_years,columns=['Year'])\n",
    "\n",
    "aa_phaseout = 15\n",
    "scenarios['aa_exponential_phaseout'] = np.clip( np.exp (-5 * np.power((scenarios.Year-2020)/aa_phaseout,3)),0,1)\n",
    "\n",
    "co2_oc_burnin = 30\n",
    "\n",
    "scenarios['CO2_recovery_elimination'] = 0\n",
    "v = scenarios['CO2_recovery_elimination'].values\n",
    "v[1] = 1\n",
    "scenarios['CO2_recovery_elimination'] = co2_oc * np.convolve(v,np.ones(co2_oc_burnin) / co2_oc_burnin,mode='full')[0:len(v)]\n",
    "\n",
    "v = scenarios['aa_exponential_phaseout'].values\n",
    "scenarios['aa_exponential_phaseout_delta'] = np.append([0],v[:-1]-v[1:])\n",
    "\n",
    "v = scenarios['aa_exponential_phaseout_delta']\n",
    "scenarios['CO2_recovery_phaseout'] = co2_oc * np.convolve(v,np.ones(co2_oc_burnin) / co2_oc_burnin,mode='full')[0:len(v)]\n",
    "\n",
    "co2_oc_burnin = 50\n",
    "\n",
    "scenarios['CO2_slow_recovery_elimination'] = 0\n",
    "v = scenarios['CO2_slow_recovery_elimination'].values\n",
    "v[1] = 1\n",
    "scenarios['CO2_slow_recovery_elimination'] = co2_oc * np.convolve(v,np.ones(co2_oc_burnin) / co2_oc_burnin,mode='full')[0:len(v)]\n",
    "v = scenarios['aa_exponential_phaseout_delta']\n",
    "scenarios['CO2_slow_recovery_phaseout'] = co2_oc * np.convolve(v,np.ones(co2_oc_burnin) / co2_oc_burnin,mode='full')[0:len(v)]"
   ]
  },
  {
   "cell_type": "code",
   "execution_count": 687,
   "metadata": {},
   "outputs": [],
   "source": [
    "for gas in gases:\n",
    "    scenarios['Emissions|%s|BAU' % gas] = emland.loc['Emissions|%s' % gas]['Total']\n",
    "    scenarios['Emissions|%s|Elimination' % gas] = emland.loc['Emissions|%s' % gas]['No Ag'] + emland.loc['Emissions|%s' % gas]['Food:Plant']\n",
    "    scenarios['Emissions|%s|Phaseout' % gas] = emland.loc['Emissions|%s' % gas]['No Ag']\n",
    "    scenarios['Emissions|%s|Phaseout' % gas] += scenarios['aa_exponential_phaseout'] * emland.loc['Emissions|%s' % gas]['Food:BAU']\n",
    "    scenarios['Emissions|%s|Phaseout' % gas] += (1-scenarios['aa_exponential_phaseout']) * emland.loc['Emissions|%s' % gas]['Food:Plant']\n",
    "    \n",
    "scenarios['Emissions|CO2|Elimination'] -= scenarios['CO2_recovery_elimination'] \n",
    "scenarios['Emissions|CO2|Phaseout'] -= scenarios['CO2_recovery_phaseout'] "
   ]
  },
  {
   "cell_type": "code",
   "execution_count": 688,
   "metadata": {},
   "outputs": [],
   "source": [
    "for gas in gases:\n",
    "    scenarios['Emissions|%s|Elimination|Slow Recovery' % gas] = emland.loc['Emissions|%s' % gas]['No Ag'] + emland.loc['Emissions|%s' % gas]['Food:Plant']\n",
    "    scenarios['Emissions|%s|Phaseout|Slow Recovery' % gas] = emland.loc['Emissions|%s' % gas]['No Ag']\n",
    "    scenarios['Emissions|%s|Phaseout|Slow Recovery' % gas] += scenarios['aa_exponential_phaseout'] * emland.loc['Emissions|%s' % gas]['Food:BAU']\n",
    "    scenarios['Emissions|%s|Phaseout|Slow Recovery' % gas] += (1-scenarios['aa_exponential_phaseout']) * emland.loc['Emissions|%s' % gas]['Food:Plant']\n",
    "    \n",
    "scenarios['Emissions|CO2|Elimination|Slow Recovery'] -= scenarios['CO2_slow_recovery_elimination'] \n",
    "scenarios['Emissions|CO2|Phaseout|Slow Recovery'] -= scenarios['CO2_slow_recovery_phaseout'] "
   ]
  },
  {
   "cell_type": "code",
   "execution_count": 689,
   "metadata": {},
   "outputs": [],
   "source": [
    "for gas in gases:\n",
    "    scenarios['Emissions|%s|Elimination|No Replace' % gas] = emland.loc['Emissions|%s' % gas]['Total'] - emland.loc['Emissions|%s' % gas]['Animal Ag']\n",
    "      \n",
    "scenarios['Emissions|CO2|Elimination|No Replace'] -= scenarios['CO2_recovery_elimination']  "
   ]
  },
  {
   "cell_type": "code",
   "execution_count": 690,
   "metadata": {},
   "outputs": [],
   "source": [
    "scenario_list = ['BAU','Elimination','Phaseout','Elimination|Slow Recovery','Phaseout|Slow Recovery','Elimination|No Replace']"
   ]
  },
  {
   "cell_type": "code",
   "execution_count": 691,
   "metadata": {},
   "outputs": [],
   "source": [
    "scenario_cats = list(cat_fractions.index)"
   ]
  },
  {
   "cell_type": "code",
   "execution_count": 692,
   "metadata": {},
   "outputs": [],
   "source": [
    "for cat in scenario_cats:\n",
    "    cid = 'Food:No:%s' % cat\n",
    "    scenario_list.append('Elimination|%s' % cat)\n",
    "    scenario_list.append('Phaseout|%s' % cat)\n",
    "    for gas in gases:\n",
    "        scenarios['Emissions|%s|Elimination|%s' % (gas,cat)] = emland.loc['Emissions|%s' % gas]['No Ag'] + emland.loc['Emissions|%s' % gas][cid]\n",
    "        scenarios['Emissions|%s|Phaseout|%s' % (gas,cat)] = emland.loc['Emissions|%s' % gas]['No Ag'] \n",
    "        scenarios['Emissions|%s|Phaseout|%s' % (gas,cat)] += scenarios['aa_exponential_phaseout'] * emland.loc['Emissions|%s' % gas]['Food:BAU']\n",
    "        scenarios['Emissions|%s|Phaseout|%s' % (gas,cat)] += (1-scenarios['aa_exponential_phaseout']) * emland.loc['Emissions|%s' % gas][cid]\n",
    "    \n",
    "    scenarios['Emissions|CO2|Elimination|%s' % cat] -= cat_fractions.loc[cat]['Land Fraction'] * scenarios['CO2_recovery_elimination'] \n",
    "    scenarios['Emissions|CO2|Phaseout|%s' % cat] -= cat_fractions.loc[cat]['Land Fraction'] * scenarios['CO2_recovery_phaseout'] "
   ]
  },
  {
   "cell_type": "code",
   "execution_count": 693,
   "metadata": {},
   "outputs": [],
   "source": [
    "for year in np.arange(2040,2070,1):\n",
    "    cid = 'Hybrid_Phaseout_%d' % year\n",
    "    scenario_list.append(cid)\n",
    "    df = scenarios[scenarios.Year > year]\n",
    "    for gas in gases:\n",
    "        scenarios['Emissions|%s|%s' % (gas,cid)] = scenarios['Emissions|%s|Phaseout' % (gas)]\n",
    "        scenarios.loc[df.index,'Emissions|%s|%s' % (gas,cid)] = df['Emissions|%s|BAU' % gas]\n",
    "        \n",
    "for year in np.arange(2040,2070,1):\n",
    "    cid = 'Hybrid_Elimination_%d' % year\n",
    "    scenario_list.append(cid)\n",
    "    df = scenarios[scenarios.Year > year]\n",
    "    for gas in gases:\n",
    "        scenarios['Emissions|%s|%s' % (gas,cid)] = scenarios['Emissions|%s|Elimination' % (gas)]\n",
    "        scenarios.loc[df.index,'Emissions|%s|%s' % (gas,cid)] = df['Emissions|%s|BAU' % gas]"
   ]
  },
  {
   "cell_type": "code",
   "execution_count": 694,
   "metadata": {},
   "outputs": [],
   "source": [
    "real_scenario_list = list(set(scenario_list))"
   ]
  },
  {
   "cell_type": "code",
   "execution_count": 695,
   "metadata": {},
   "outputs": [],
   "source": [
    "gtsteps = np.arange(1,70)\n",
    "    \n",
    "for i in gtsteps:\n",
    "    scenid = 'BAU_m%02dGT' % i\n",
    "    scenario_list.append(scenid)\n",
    "    for gas in gases:\n",
    "        scenarios['Emissions|%s|%s' % (gas,scenid)] = scenarios['Emissions|%s|BAU' % gas]\n",
    "\n",
    "    # account for 2020\n",
    "    v = np.ones(len(scenarios))\n",
    "    v[0] = 0\n",
    "    \n",
    "    scenarios['Emissions|CO2|%s' % scenid] = scenarios['Emissions|CO2|BAU'] - v * i"
   ]
  },
  {
   "cell_type": "code",
   "execution_count": 696,
   "metadata": {},
   "outputs": [],
   "source": [
    "mtsteps = np.arange(10,1000,10)\n",
    "\n",
    "for i in mtsteps:\n",
    "    scenid = 'BAU_m%04dMT' % i\n",
    "    scenario_list.append(scenid)\n",
    "    for gas in gases:\n",
    "        scenarios['Emissions|%s|%s' % (gas,scenid)] = scenarios['Emissions|%s|BAU' % gas]\n",
    "        \n",
    "    # account for 2020\n",
    "    v = np.ones(len(scenarios))\n",
    "    v[0] = 0\n",
    "    \n",
    "    scenarios['Emissions|CO2|%s' % scenid] = scenarios['Emissions|CO2|BAU'] - v * i/1000\n",
    "    \n",
    "ktsteps = np.arange(100,1000,100)\n",
    "\n",
    "for i in ktsteps:\n",
    "    scenid = 'BAU_m%04dkT' % i\n",
    "    scenario_list.append(scenid)\n",
    "    for gas in gases:\n",
    "        scenarios['Emissions|%s|%s' % (gas,scenid)] = scenarios['Emissions|%s|BAU' % gas]\n",
    "        \n",
    "    # account for 2020\n",
    "    v = np.ones(len(scenarios))\n",
    "    v[0] = 0\n",
    "    \n",
    "    scenarios['Emissions|CO2|%s' % scenid] = scenarios['Emissions|CO2|BAU'] - v * i/1000000"
   ]
  },
  {
   "cell_type": "code",
   "execution_count": 697,
   "metadata": {},
   "outputs": [],
   "source": [
    "for scen in scenario_list:\n",
    "    em = {}\n",
    "    for gas in gases:\n",
    "        em[gas] = scenarios['Emissions|%s|%s' % (gas,scen)]\n",
    "\n",
    "    p = RunScenarios(em)\n",
    "    for gas in gases:\n",
    "        scenarios['Concentration|%s|%s' % (gas,scen)] = p[gas]\n",
    "        \n",
    "    rf = RF_MAGICC(p['CO2'],p['CH4'],p['N2O'])\n",
    "    \n",
    "    scenarios['RF|%s' % scen] = rf[3]\n",
    "    \n",
    "    rf = RF_MAGICC_CORR(p['CO2'],p['CH4'],p['N2O'])\n",
    "    \n",
    "    scenarios['RFC|%s' % scen] = rf\n",
    "    \n",
    "    scenarios['RFD|%s' % scen] =  scenarios['RF|%s' % scen] -  scenarios['RF|BAU']\n",
    "    scenarios['CRFD|%s' % scen] = np.cumsum(scenarios['RFD|%s' % scen].values)   \n",
    "    \n",
    "    scenarios['RFCD|%s' % scen] =  scenarios['RFC|%s' % scen] -  scenarios['RFC|BAU']\n",
    "    scenarios['CRFCD|%s' % scen] = np.cumsum(scenarios['RFCD|%s' % scen].values)   "
   ]
  },
  {
   "cell_type": "code",
   "execution_count": 698,
   "metadata": {},
   "outputs": [],
   "source": [
    "for scen in scenario_list:\n",
    "    em = {}\n",
    "    for gas in gases:\n",
    "        em[gas] = scenarios['Emissions|%s|%s' % (gas,scen)]\n",
    "\n",
    "    p = RunScenarios(em)\n",
    "    for gas in gases:\n",
    "        scenarios['Concentration|%s|%s' % (gas,scen)] = p[gas]\n",
    "        \n",
    "    rf = RF_MAGICC(p['CO2'],p['CH4'],p['N2O'])\n",
    "    \n",
    "    scenarios['RF|%s' % scen] = rf[3]\n",
    "    \n",
    "    rf = RF_MAGICC_CORR(p['CO2'],p['CH4'],p['N2O'])\n",
    "    \n",
    "    scenarios['RFC|%s' % scen] = rf\n",
    "    \n",
    "    scenarios['RFD|%s' % scen] =  scenarios['RF|%s' % scen] -  scenarios['RF|BAU']\n",
    "    scenarios['CRFD|%s' % scen] = np.cumsum(scenarios['RFD|%s' % scen].values)   \n",
    "    \n",
    "    scenarios['RFCD|%s' % scen] =  scenarios['RFC|%s' % scen] -  scenarios['RFC|BAU']\n",
    "    scenarios['CRFCD|%s' % scen] = np.cumsum(scenarios['RFCD|%s' % scen].values)   "
   ]
  },
  {
   "cell_type": "code",
   "execution_count": 699,
   "metadata": {},
   "outputs": [],
   "source": [
    "scenarios = scenarios.set_index('Year')"
   ]
  },
  {
   "cell_type": "code",
   "execution_count": 700,
   "metadata": {},
   "outputs": [],
   "source": [
    "# calibration\n",
    "\n",
    "for scen in scenario_list:\n",
    "    scenarios['ACO2EQ|%s' % scen] = 0 \n",
    "    scenarios['COC|%s' % scen] = 0\n",
    "    scenarios['ACO2EQC|%s' % scen] = 0 \n",
    "    scenarios['COCC|%s' % scen] = 0 \n",
    "\n",
    "for year in np.arange(2025,2200):\n",
    "\n",
    "    x = []\n",
    "    y = []\n",
    "\n",
    "    r = scenarios.loc[year]\n",
    "    for i in gtsteps:\n",
    "        x.append(i)\n",
    "        y.append(r['CRFD|BAU_m%02dGT' % i])\n",
    "    for i in mtsteps:\n",
    "        x.append(i/1000)\n",
    "        y.append(r['CRFD|BAU_m%04dMT' % i])\n",
    "    for i in ktsteps:\n",
    "        x.append(i/1000000)\n",
    "        y.append(r['CRFD|BAU_m%04dkT' % i])\n",
    "        \n",
    "    f = interp1d(y,x)\n",
    "    pf = np.polyfit(y,x,2)\n",
    "    z = np.poly1d(pf)\n",
    "    for scen in real_scenario_list:\n",
    "        try:\n",
    "            scenarios.loc[year,'ACO2EQ|%s' % scen] = f(scenarios.loc[year]['CRFD|%s' % scen])\n",
    "        except:\n",
    "            scenarios.loc[year,'ACO2EQ|%s' % scen] = z(scenarios.loc[year]['CRFD|%s' % scen])\n",
    "        \n",
    "    x = []\n",
    "    y = []\n",
    "\n",
    "    r = scenarios.loc[year]\n",
    "    for i in gtsteps:\n",
    "        x.append(i)\n",
    "        y.append(r['CRFCD|BAU_m%02dGT' % i])\n",
    "    for i in mtsteps:\n",
    "        x.append(i/1000)\n",
    "        y.append(r['CRFCD|BAU_m%04dMT' % i])\n",
    "    for i in ktsteps:\n",
    "        x.append(i/1000000)\n",
    "        y.append(r['CRFCD|BAU_m%04dkT' % i])\n",
    "        \n",
    "    f = interp1d(y,x)\n",
    "    pf = np.polyfit(y,x,2)\n",
    "    z = np.poly1d(pf)\n",
    "    for scen in real_scenario_list:\n",
    "        try:\n",
    "            scenarios.loc[year,'ACO2EQC|%s' % scen] = f(scenarios.loc[year]['CRFCD|%s' % scen])\n",
    "        except:\n",
    "            scenarios.loc[year,'ACO2EQC|%s' % scen] = z(scenarios.loc[year]['CRFCD|%s' % scen])\n",
    "\n",
    "for scen in scenario_list:\n",
    "    scenarios['COC|%s' % scen] = (scenarios.index - 2021) * scenarios['ACO2EQ|%s' % scen]\n",
    "    scenarios['COCC|%s' % scen] = (scenarios.index - 2021) * scenarios['ACO2EQC|%s' % scen]"
   ]
  },
  {
   "cell_type": "code",
   "execution_count": 701,
   "metadata": {},
   "outputs": [],
   "source": [
    "## \n",
    "\n",
    "ref_year = 2100\n",
    "r = scenarios.loc[ref_year]\n",
    "\n",
    "for scen in scenario_list:\n",
    "    v = scenarios['RFD|%s' % scen].values\n",
    "    scenarios['RFDI|%s' % scen] = np.append([0],v[:-1]-v[1:])\n",
    "    scenarios['RY_RFDW|%s' % scen] = (scenarios['RFDI|%s' % scen] * (2101 - scenarios.index))/r['CRFD|%s' % scen]"
   ]
  },
  {
   "cell_type": "code",
   "execution_count": 702,
   "metadata": {},
   "outputs": [
    {
     "data": {
      "text/plain": [
       "<matplotlib.legend.Legend at 0x7f8800152760>"
      ]
     },
     "execution_count": 702,
     "metadata": {},
     "output_type": "execute_result"
    },
    {
     "data": {
      "image/png": "[encoded data removed]",
      "text/plain": [
       "<Figure size 432x288 with 1 Axes>"
      ]
     },
     "metadata": {
      "needs_background": "light"
     },
     "output_type": "display_data"
    }
   ],
   "source": [
    "df = scenarios.loc[2020:2100]\n",
    "v = df['RY_RFDW|Elimination'].values\n",
    "x = np.cumsum(v)\n",
    "y = df.index\n",
    "plt.plot(y,-x * r['COC|Elimination'],label='Banked COC, Elmination')\n",
    "\n",
    "v = df['RY_RFDW|Phaseout'].values\n",
    "x = np.cumsum(v)\n",
    "y = df.index\n",
    "plt.plot(y,-x * r['COC|Phaseout'],label='Banked COC, Phaseout')\n",
    "\n",
    "s = 'BAU_m32GT'\n",
    "v = df['RY_RFDW|' + s].values\n",
    "x = np.cumsum(v)\n",
    "y = df.index\n",
    "plt.plot(y,-x * r['COC|' + s],label='Banked COC ' + s )\n",
    "\n",
    "plt.plot(y,(y-2021) * 50,label=\"BAU\")\n",
    "\n",
    "plt.legend()"
   ]
  },
  {
   "cell_type": "code",
   "execution_count": 703,
   "metadata": {
    "scrolled": true
   },
   "outputs": [],
   "source": [
    "hp = []\n",
    "he = []\n",
    "ys = []\n",
    "r = scenarios.loc[2100]\n",
    "for y in np.arange(2040,2070,1):\n",
    "    ys.append(y)\n",
    "    hp.append(50*79 - (r['COC|Hybrid_Phaseout_%d' %y] + (2100-y) * 50))\n",
    "    he.append(50*79 - (r['COC|Hybrid_Elimination_%d' %y] + (2100-y) * 50)) \n"
   ]
  },
  {
   "cell_type": "code",
   "execution_count": 704,
   "metadata": {},
   "outputs": [
    {
     "data": {
      "text/plain": [
       "(0.0, 471.46723988974406)"
      ]
     },
     "execution_count": 704,
     "metadata": {},
     "output_type": "execute_result"
    },
    {
     "data": {
      "image/png": "[encoded data removed]",
      "text/plain": [
       "<Figure size 432x288 with 1 Axes>"
      ]
     },
     "metadata": {
      "needs_background": "light"
     },
     "output_type": "display_data"
    }
   ],
   "source": [
    "plt.plot(ys,hp)\n",
    "plt.xlabel(\"Phaseout->BAU Transition Year\")\n",
    "plt.ylabel(\"Residual COC\")\n",
    "plt.title(\"Phaseout\")\n",
    "plt.ylim(0)"
   ]
  },
  {
   "cell_type": "code",
   "execution_count": 705,
   "metadata": {},
   "outputs": [
    {
     "data": {
      "text/plain": [
       "Text(0.5, 1.0, 'Elimination')"
      ]
     },
     "execution_count": 705,
     "metadata": {},
     "output_type": "execute_result"
    },
    {
     "data": {
      "image/png": "[encoded data removed]",
      "text/plain": [
       "<Figure size 432x288 with 1 Axes>"
      ]
     },
     "metadata": {
      "needs_background": "light"
     },
     "output_type": "display_data"
    }
   ],
   "source": [
    "plt.plot(ys,he)\n",
    "plt.xlabel(\"Elimination->BAU Transition Year\")\n",
    "plt.ylabel(\"Residual COC\")\n",
    "plt.title(\"Elimination\")"
   ]
  },
  {
   "cell_type": "code",
   "execution_count": null,
   "metadata": {},
   "outputs": [],
   "source": []
  },
  {
   "cell_type": "code",
   "execution_count": 707,
   "metadata": {},
   "outputs": [],
   "source": [
    "# Emission Intensities\n",
    "# per kg product\n",
    "\n",
    "miles_per_kgco2 = 25 / 8.8 \n",
    "km_per_kgco2 = (25 * 1.61) / 8.8\n",
    "\n",
    "for cat in list(livestock_cat_data.index):\n",
    "    for scen in ['Elimination|%s' % cat,'Phaseout|%s' % cat]:\n",
    "        dress_factor = 1\n",
    "        if \"meat\" in scen:\n",
    "            dress_factor = 1.5\n",
    "        scenarios['EI_perunit|%s' % scen] = dress_factor * (1E+12 * scenarios['ACO2EQ|%s' % scen]) / (1000 * livestock_cat_data.loc[cat]['Primary Production'])\n",
    "        scenarios['DD_perunit|%s' % scen] = scenarios['EI_perunit|%s' % scen] * km_per_kgco2 \n",
    "        scenarios['EI_perprotein|%s' % scen] = (1E+12 * scenarios['ACO2EQ|%s' % scen]) / (1000 * livestock_cat_data.loc[cat]['Protein Production'])\n",
    "        scenarios['DD_perprotein|%s' % scen] = scenarios['EI_perprotein|%s' % scen] * km_per_kgco2\n",
    "        \n",
    "prim_tot = livestock_cat_data.sum()['Primary Production']\n",
    "prot_tot = livestock_cat_data.sum()['Protein Production']\n",
    "\n",
    "for cat in list(groups.keys()):\n",
    "    for scen in ['Elimination|%s' % cat,'Phaseout|%s' % cat]:\n",
    "        dress_factor = 1\n",
    "        if \"Meat\" in scen:\n",
    "            dress_factor = 1.5\n",
    "        scenarios['EI_perunit|%s' % scen] = dress_factor * (1E+12 * scenarios['ACO2EQ|%s' % scen]) / (1000 * prim_tot * cat_fractions.loc[cat]['Primary Fraction'])\n",
    "        scenarios['DD_perunit|%s' % scen] = scenarios['EI_perunit|%s' % scen] * km_per_kgco2 \n",
    "        scenarios['EI_perprotein|%s' % scen] = (1E+12 * scenarios['ACO2EQ|%s' % scen]) / (1000 * prot_tot * cat_fractions.loc[cat]['Protein Fraction'])\n",
    "        scenarios['DD_perprotein|%s' % scen] = scenarios['EI_perprotein|%s' % scen] * km_per_kgco2"
   ]
  },
  {
   "cell_type": "markdown",
   "metadata": {},
   "source": [
    "## Current Global Food Supply from Plants and Animals"
   ]
  },
  {
   "cell_type": "code",
   "execution_count": 708,
   "metadata": {},
   "outputs": [
    {
     "data": {
      "text/html": [
       "<div>\n",
       "<style scoped>\n",
       "    .dataframe tbody tr th:only-of-type {\n",
       "        vertical-align: middle;\n",
       "    }\n",
       "\n",
       "    .dataframe tbody tr th {\n",
       "        vertical-align: top;\n",
       "    }\n",
       "\n",
       "    .dataframe thead th {\n",
       "        text-align: right;\n",
       "    }\n",
       "</style>\n",
       "<table border=\"1\" class=\"dataframe\">\n",
       "  <thead>\n",
       "    <tr style=\"text-align: right;\">\n",
       "      <th></th>\n",
       "      <th>Area Code</th>\n",
       "      <th>Area</th>\n",
       "      <th>Item Code</th>\n",
       "      <th>Item</th>\n",
       "      <th>Element Code</th>\n",
       "      <th>Element</th>\n",
       "      <th>Year Code</th>\n",
       "      <th>Year</th>\n",
       "      <th>Unit</th>\n",
       "      <th>Value</th>\n",
       "      <th>Flag</th>\n",
       "    </tr>\n",
       "  </thead>\n",
       "  <tbody>\n",
       "    <tr>\n",
       "      <th>503</th>\n",
       "      <td>5000</td>\n",
       "      <td>World</td>\n",
       "      <td>2901</td>\n",
       "      <td>Grand Total</td>\n",
       "      <td>664</td>\n",
       "      <td>Food supply (kcal/capita/day)</td>\n",
       "      <td>2013</td>\n",
       "      <td>2013</td>\n",
       "      <td>kcal/capita/day</td>\n",
       "      <td>2884.00</td>\n",
       "      <td>Fc</td>\n",
       "    </tr>\n",
       "    <tr>\n",
       "      <th>504</th>\n",
       "      <td>5000</td>\n",
       "      <td>World</td>\n",
       "      <td>2901</td>\n",
       "      <td>Grand Total</td>\n",
       "      <td>674</td>\n",
       "      <td>Protein supply quantity (g/capita/day)</td>\n",
       "      <td>2013</td>\n",
       "      <td>2013</td>\n",
       "      <td>g/capita/day</td>\n",
       "      <td>81.23</td>\n",
       "      <td>Fc</td>\n",
       "    </tr>\n",
       "    <tr>\n",
       "      <th>505</th>\n",
       "      <td>5000</td>\n",
       "      <td>World</td>\n",
       "      <td>2901</td>\n",
       "      <td>Grand Total</td>\n",
       "      <td>684</td>\n",
       "      <td>Fat supply quantity (g/capita/day)</td>\n",
       "      <td>2013</td>\n",
       "      <td>2013</td>\n",
       "      <td>g/capita/day</td>\n",
       "      <td>82.76</td>\n",
       "      <td>Fc</td>\n",
       "    </tr>\n",
       "  </tbody>\n",
       "</table>\n",
       "</div>"
      ],
      "text/plain": [
       "     Area Code   Area  Item Code         Item  Element Code  \\\n",
       "503       5000  World       2901  Grand Total           664   \n",
       "504       5000  World       2901  Grand Total           674   \n",
       "505       5000  World       2901  Grand Total           684   \n",
       "\n",
       "                                    Element  Year Code  Year             Unit  \\\n",
       "503           Food supply (kcal/capita/day)       2013  2013  kcal/capita/day   \n",
       "504  Protein supply quantity (g/capita/day)       2013  2013     g/capita/day   \n",
       "505      Fat supply quantity (g/capita/day)       2013  2013     g/capita/day   \n",
       "\n",
       "       Value Flag  \n",
       "503  2884.00   Fc  \n",
       "504    81.23   Fc  \n",
       "505    82.76   Fc  "
      ]
     },
     "execution_count": 708,
     "metadata": {},
     "output_type": "execute_result"
    }
   ],
   "source": [
    "faocrops = pd.read_csv(\"FAOSTAT/Filtered/FoodSupply_Crops_E_All_Data_(Normalized).csv\")\n",
    "faocrops[(faocrops.Area == \"World\") & (faocrops.Year == 2013) & (faocrops.Item == \"Grand Total\")]"
   ]
  },
  {
   "cell_type": "code",
   "execution_count": 709,
   "metadata": {},
   "outputs": [
    {
     "data": {
      "text/html": [
       "<div>\n",
       "<style scoped>\n",
       "    .dataframe tbody tr th:only-of-type {\n",
       "        vertical-align: middle;\n",
       "    }\n",
       "\n",
       "    .dataframe tbody tr th {\n",
       "        vertical-align: top;\n",
       "    }\n",
       "\n",
       "    .dataframe thead th {\n",
       "        text-align: right;\n",
       "    }\n",
       "</style>\n",
       "<table border=\"1\" class=\"dataframe\">\n",
       "  <thead>\n",
       "    <tr style=\"text-align: right;\">\n",
       "      <th></th>\n",
       "      <th>Area Code</th>\n",
       "      <th>Area</th>\n",
       "      <th>Item Code</th>\n",
       "      <th>Item</th>\n",
       "      <th>Element Code</th>\n",
       "      <th>Element</th>\n",
       "      <th>Year Code</th>\n",
       "      <th>Year</th>\n",
       "      <th>Unit</th>\n",
       "      <th>Value</th>\n",
       "      <th>Flag</th>\n",
       "    </tr>\n",
       "  </thead>\n",
       "  <tbody>\n",
       "    <tr>\n",
       "      <th>154</th>\n",
       "      <td>5000</td>\n",
       "      <td>World</td>\n",
       "      <td>2941</td>\n",
       "      <td>Animal Products</td>\n",
       "      <td>664</td>\n",
       "      <td>Food supply (kcal/capita/day)</td>\n",
       "      <td>2013</td>\n",
       "      <td>2013</td>\n",
       "      <td>kcal/capita/day</td>\n",
       "      <td>514.00</td>\n",
       "      <td>Fc</td>\n",
       "    </tr>\n",
       "    <tr>\n",
       "      <th>155</th>\n",
       "      <td>5000</td>\n",
       "      <td>World</td>\n",
       "      <td>2941</td>\n",
       "      <td>Animal Products</td>\n",
       "      <td>674</td>\n",
       "      <td>Protein supply quantity (g/capita/day)</td>\n",
       "      <td>2013</td>\n",
       "      <td>2013</td>\n",
       "      <td>g/capita/day</td>\n",
       "      <td>32.13</td>\n",
       "      <td>Fc</td>\n",
       "    </tr>\n",
       "    <tr>\n",
       "      <th>156</th>\n",
       "      <td>5000</td>\n",
       "      <td>World</td>\n",
       "      <td>2941</td>\n",
       "      <td>Animal Products</td>\n",
       "      <td>684</td>\n",
       "      <td>Fat supply quantity (g/capita/day)</td>\n",
       "      <td>2013</td>\n",
       "      <td>2013</td>\n",
       "      <td>g/capita/day</td>\n",
       "      <td>37.55</td>\n",
       "      <td>Fc</td>\n",
       "    </tr>\n",
       "  </tbody>\n",
       "</table>\n",
       "</div>"
      ],
      "text/plain": [
       "     Area Code   Area  Item Code             Item  Element Code  \\\n",
       "154       5000  World       2941  Animal Products           664   \n",
       "155       5000  World       2941  Animal Products           674   \n",
       "156       5000  World       2941  Animal Products           684   \n",
       "\n",
       "                                    Element  Year Code  Year             Unit  \\\n",
       "154           Food supply (kcal/capita/day)       2013  2013  kcal/capita/day   \n",
       "155  Protein supply quantity (g/capita/day)       2013  2013     g/capita/day   \n",
       "156      Fat supply quantity (g/capita/day)       2013  2013     g/capita/day   \n",
       "\n",
       "      Value Flag  \n",
       "154  514.00   Fc  \n",
       "155   32.13   Fc  \n",
       "156   37.55   Fc  "
      ]
     },
     "execution_count": 709,
     "metadata": {},
     "output_type": "execute_result"
    }
   ],
   "source": [
    "faols = pd.read_csv(\"FAOSTAT/Filtered/FoodSupply_LivestockFish_E_All_Data_(Normalized).csv\")\n",
    "faols[(faols.Area == \"World\") & (faols.Year == 2013) & (faols.Item == \"Animal Products\")]"
   ]
  },
  {
   "cell_type": "markdown",
   "metadata": {},
   "source": [
    "## Emissions and Land Carbon Opportunity Cost\n",
    "\n",
    "we extend the concept of COC (Hayek et al., 2021) to include both emissions and land use changes. We define the “emissions and land carbon opportunity cost” (ELCOC) of dietary interventions as the cumulative reduction in CO2 emissions necessary to reduce the RF projected in a BAU scenario in 2100 to the RF projected following intervention.  \n",
    "\n",
    "We define the combined emissions and land carbon opportunity cost (ELCOC) of animal agriculture as $2\\Delta C$ where:\n",
    "  \n",
    "$RF(C_{BAU}-\\Delta C,M_{BAU},N_{BAU})=RF(C_{POD},M_{POD},N_{POD})$  \n",
    "\n",
    "The factor of 2 accounts for the half of $CO_2$ emissions that go to terrestrial sinks.\n"
   ]
  },
  {
   "cell_type": "code",
   "execution_count": 710,
   "metadata": {},
   "outputs": [],
   "source": [
    "proj_end = scenarios.loc[2100]\n",
    "\n",
    "xl = 300\n",
    "xh = 700\n",
    "x = np.linspace(xl,xh,100000)\n",
    "\n",
    "CB = proj_end['Concentration|CO2|BAU']\n",
    "MB = proj_end['Concentration|CH4|BAU']\n",
    "NB = proj_end['Concentration|N2O|BAU']\n",
    "\n",
    "xd = x - CB\n",
    "xe = 2 * xd * 44 * 1.8E11 / 1E12 / 1000\n",
    "x_R = RF_cMAGICC(x,MB,NB)\n",
    "\n",
    "data = []\n",
    "\n",
    "rft = proj_end['RFC|BAU']\n",
    "xn = xe[np.argmin(np.abs(x_R-rft))]\n",
    "data.append(['Baseline',rft,xn])\n",
    "\n",
    "rft = proj_end['RFC|Phaseout|Bovid']\n",
    "xn = xe[np.argmin(np.abs(x_R-rft))]\n",
    "data.append(['Phaseout Bovids',rft, xn])\n",
    "\n",
    "rft = proj_end['RFC|Phaseout']\n",
    "xn = xe[np.argmin(np.abs(x_R-rft))]\n",
    "data.append(['Phaseout',rft,xn])\n",
    "\n",
    "rft = proj_end['RFC|Elimination']\n",
    "xn = xe[np.argmin(np.abs(x_R-rft))]\n",
    "data.append(['Elimination',rft,xn])\n",
    "\n",
    "rft = 2.6\n",
    "xn = xe[np.argmin(np.abs(x_R-rft))]\n",
    "data.append(['RF2.6',rft,xn])\n",
    "\n",
    "rft = 1.9\n",
    "xn = xe[np.argmin(np.abs(x_R-rft))]\n",
    "data.append(['RF1.9',rft,xn])\n",
    "\n",
    "elcoc = pd.DataFrame(data=data,columns=['Target','RF','ELCOC'])\n",
    "elcoc['ELCOC'] = np.round(elcoc.ELCOC,2)\n",
    "elcoc = elcoc.set_index(['Target'])"
   ]
  },
  {
   "cell_type": "code",
   "execution_count": 711,
   "metadata": {},
   "outputs": [
    {
     "data": {
      "text/html": [
       "<div>\n",
       "<style scoped>\n",
       "    .dataframe tbody tr th:only-of-type {\n",
       "        vertical-align: middle;\n",
       "    }\n",
       "\n",
       "    .dataframe tbody tr th {\n",
       "        vertical-align: top;\n",
       "    }\n",
       "\n",
       "    .dataframe thead th {\n",
       "        text-align: right;\n",
       "    }\n",
       "</style>\n",
       "<table border=\"1\" class=\"dataframe\">\n",
       "  <thead>\n",
       "    <tr style=\"text-align: right;\">\n",
       "      <th></th>\n",
       "      <th>RF</th>\n",
       "      <th>ELCOC</th>\n",
       "    </tr>\n",
       "    <tr>\n",
       "      <th>Target</th>\n",
       "      <th></th>\n",
       "      <th></th>\n",
       "    </tr>\n",
       "  </thead>\n",
       "  <tbody>\n",
       "    <tr>\n",
       "      <th>Baseline</th>\n",
       "      <td>5.130507</td>\n",
       "      <td>-0.00</td>\n",
       "    </tr>\n",
       "    <tr>\n",
       "      <th>Phaseout Bovids</th>\n",
       "      <td>4.247229</td>\n",
       "      <td>-1.42</td>\n",
       "    </tr>\n",
       "    <tr>\n",
       "      <th>Phaseout</th>\n",
       "      <td>3.881035</td>\n",
       "      <td>-1.95</td>\n",
       "    </tr>\n",
       "    <tr>\n",
       "      <th>Elimination</th>\n",
       "      <td>3.824883</td>\n",
       "      <td>-2.03</td>\n",
       "    </tr>\n",
       "    <tr>\n",
       "      <th>RF2.6</th>\n",
       "      <td>2.600000</td>\n",
       "      <td>-3.56</td>\n",
       "    </tr>\n",
       "    <tr>\n",
       "      <th>RF1.9</th>\n",
       "      <td>1.900000</td>\n",
       "      <td>-4.30</td>\n",
       "    </tr>\n",
       "  </tbody>\n",
       "</table>\n",
       "</div>"
      ],
      "text/plain": [
       "                       RF  ELCOC\n",
       "Target                          \n",
       "Baseline         5.130507  -0.00\n",
       "Phaseout Bovids  4.247229  -1.42\n",
       "Phaseout         3.881035  -1.95\n",
       "Elimination      3.824883  -2.03\n",
       "RF2.6            2.600000  -3.56\n",
       "RF1.9            1.900000  -4.30"
      ]
     },
     "execution_count": 711,
     "metadata": {},
     "output_type": "execute_result"
    }
   ],
   "source": [
    "elcoc"
   ]
  },
  {
   "cell_type": "markdown",
   "metadata": {},
   "source": [
    "## Land Use if Western Diet Extended to Whole Planet"
   ]
  },
  {
   "cell_type": "code",
   "execution_count": 712,
   "metadata": {},
   "outputs": [],
   "source": [
    "diet_countries = country_group[country_group['Country Group'] == \"OECD\"].Country"
   ]
  },
  {
   "cell_type": "code",
   "execution_count": 713,
   "metadata": {
    "scrolled": true
   },
   "outputs": [
    {
     "data": {
      "text/plain": [
       "1231420762.0"
      ]
     },
     "execution_count": 713,
     "metadata": {},
     "output_type": "execute_result"
    }
   ],
   "source": [
    "pop = pd.read_csv(\"FAOSTAT/Filtered/Population_E_All_Data_(Normalized).csv\")\n",
    "diet_pop_all = pop[(pop.Year == 2018) & (pop.Area.isin(diet_countries))].groupby('Element').sum()\n",
    "diet_pop = diet_pop_all.loc['Total Population - Both sexes']['Value'] * 1000\n",
    "diet_pop"
   ]
  },
  {
   "cell_type": "code",
   "execution_count": 714,
   "metadata": {},
   "outputs": [],
   "source": [
    "current_pop = 7794798739"
   ]
  },
  {
   "cell_type": "code",
   "execution_count": 715,
   "metadata": {
    "scrolled": true
   },
   "outputs": [
    {
     "data": {
      "text/plain": [
       "Primary Production           3.181733e+09\n",
       "Emissions|CO2                3.862889e+00\n",
       "Emissions|CH4                1.848331e+02\n",
       "Emissions|N2O                1.158270e+01\n",
       "Land Use                     7.872311e+01\n",
       "Conversion                   2.851366e+04\n",
       "Protein Production           2.055668e+08\n",
       "Emissions|CO2|Replacement    4.111336e-01\n",
       "Land Use|Replacement         1.644535e+00\n",
       "dtype: float64"
      ]
     },
     "execution_count": 715,
     "metadata": {},
     "output_type": "execute_result"
    }
   ],
   "source": [
    "(current_pop / diet_pop) *  livestock_data[livestock_data.Area.isin(diet_countries)].groupby('Category').sum().sum()"
   ]
  },
  {
   "cell_type": "markdown",
   "metadata": {},
   "source": [
    "## Numbers from Text"
   ]
  },
  {
   "cell_type": "code",
   "execution_count": 716,
   "metadata": {},
   "outputs": [
    {
     "name": "stdout",
     "output_type": "stream",
     "text": [
      "RF:BAU 5.320835091809173 5.130506988065693\n",
      "RF:Phaseout 4.239634330372921 3.881034758921378\n"
     ]
    }
   ],
   "source": [
    "# RF 2100\n",
    "\n",
    "r = scenarios.loc[2100]\n",
    "print (\"RF:BAU\", r['RF|BAU'], r['RFC|BAU'])\n",
    "print (\"RF:Phaseout\", r['RF|Phaseout'], r['RFC|Phaseout'])"
   ]
  },
  {
   "cell_type": "code",
   "execution_count": 717,
   "metadata": {},
   "outputs": [
    {
     "name": "stdout",
     "output_type": "stream",
     "text": [
      "ELCOC:Phaseout -1.95 -39.0\n"
     ]
    }
   ],
   "source": [
    "# ELCOC\n",
    "\n",
    "print (\"ELCOC:Phaseout\",elcoc.loc['Phaseout']['ELCOC'],elcoc.loc['Phaseout']['ELCOC']/.050)"
   ]
  },
  {
   "cell_type": "code",
   "execution_count": 718,
   "metadata": {},
   "outputs": [
    {
     "name": "stdout",
     "output_type": "stream",
     "text": [
      "ACO2EQ 2100:Phaseout 28.04396944466083 2215.4735861282056 44.30947172256411\n"
     ]
    }
   ],
   "source": [
    "# ACO2EQ\n",
    "\n",
    "r = scenarios.loc[2100]\n",
    "v = r['ACO2EQ|Phaseout']\n",
    "print (\"ACO2EQ 2100:Phaseout\", v, v * (2100-2021),v* (2100-2021)/50)"
   ]
  },
  {
   "cell_type": "code",
   "execution_count": 719,
   "metadata": {},
   "outputs": [
    {
     "data": {
      "text/plain": [
       "0.56"
      ]
     },
     "execution_count": 719,
     "metadata": {},
     "output_type": "execute_result"
    }
   ],
   "source": [
    "28/50"
   ]
  },
  {
   "cell_type": "code",
   "execution_count": 720,
   "metadata": {},
   "outputs": [
    {
     "name": "stdout",
     "output_type": "stream",
     "text": [
      "ACO2EQ 2100:Elimination 32.40345230466526 2559.8727320685553\n"
     ]
    }
   ],
   "source": [
    "# ACO2EQ\n",
    "\n",
    "r = scenarios.loc[2100]\n",
    "print (\"ACO2EQ 2100:Elimination\", r['ACO2EQ|Elimination'], r['ACO2EQ|Elimination'] * (2100-2021))"
   ]
  },
  {
   "cell_type": "code",
   "execution_count": 725,
   "metadata": {},
   "outputs": [
    {
     "name": "stdout",
     "output_type": "stream",
     "text": [
      "Max ACO2EQ: Phaseout 2065 31.953129225639184\n"
     ]
    }
   ],
   "source": [
    "# Max ACO2EQ\n",
    "\n",
    "v = scenarios['ACO2EQ|Phaseout'].values[1:]\n",
    "am = np.argmax(v)\n",
    "print (\"Max ACO2EQ: Phaseout\", 2021 + am, v[am])"
   ]
  },
  {
   "cell_type": "code",
   "execution_count": 726,
   "metadata": {
    "scrolled": false
   },
   "outputs": [
    {
     "data": {
      "text/plain": [
       "[<matplotlib.lines.Line2D at 0x7f8874dd42b0>]"
      ]
     },
     "execution_count": 726,
     "metadata": {},
     "output_type": "execute_result"
    },
    {
     "data": {
      "image/png": "[encoded data removed]",
      "text/plain": [
       "<Figure size 432x288 with 1 Axes>"
      ]
     },
     "metadata": {
      "needs_background": "light"
     },
     "output_type": "display_data"
    }
   ],
   "source": [
    "plt.plot(scenarios['ACO2EQ|Phaseout'])"
   ]
  },
  {
   "cell_type": "code",
   "execution_count": 728,
   "metadata": {},
   "outputs": [
    {
     "name": "stdout",
     "output_type": "stream",
     "text": [
      "RF:BAU 5.320835091809173 5.130506988065693\n",
      "RF:Elimination 4.200139967332876 3.8248832445126304\n"
     ]
    }
   ],
   "source": [
    "# RF 2100\n",
    "\n",
    "r = scenarios.loc[2100]\n",
    "print (\"RF:BAU\", r['RF|BAU'], r['RFC|BAU'])\n",
    "print (\"RF:Elimination\", r['RF|Elimination'], r['RFC|Elimination'])"
   ]
  },
  {
   "cell_type": "code",
   "execution_count": 729,
   "metadata": {},
   "outputs": [
    {
     "name": "stdout",
     "output_type": "stream",
     "text": [
      "ACO2EQ 2100:Elimination 32.40345230466526 2559.8727320685553\n"
     ]
    }
   ],
   "source": [
    "# ACO2EQ\n",
    "\n",
    "r = scenarios.loc[2100]\n",
    "print (\"ACO2EQ 2100:Elimination\", r['ACO2EQ|Elimination'], r['ACO2EQ|Elimination'] * (2100-2021))"
   ]
  },
  {
   "cell_type": "code",
   "execution_count": 730,
   "metadata": {},
   "outputs": [
    {
     "name": "stdout",
     "output_type": "stream",
     "text": [
      "ACO2EQ 2100:Elimination 32.40345230466526 2559.8727320685553\n"
     ]
    }
   ],
   "source": [
    "# ACO2EQ\n",
    "\n",
    "r = scenarios.loc[2100]\n",
    "print (\"ACO2EQ 2100:Elimination\", r['ACO2EQ|Elimination'], r['ACO2EQ|Elimination'] * (2100-2021))"
   ]
  },
  {
   "cell_type": "code",
   "execution_count": 731,
   "metadata": {},
   "outputs": [
    {
     "name": "stdout",
     "output_type": "stream",
     "text": [
      "ALL 48.885009842244486\n",
      "Bovid 37.6639871173863 0.7704608680438185\n",
      "Ruminant 42.55164897084298 0.8704437026434131\n",
      "Ruminant Meat 28.20647385957922 0.5769963829526389\n",
      "Ruminant Milk 14.747163367007753 0.3016704591979818\n",
      "cattle_meat 22.414945071679718 0.4585238940119761\n",
      "cow_milk 11.314127183182425 0.23144369244670182\n"
     ]
    }
   ],
   "source": [
    "r = scenarios.loc[2050]\n",
    "print (\"ALL\",r['ACO2EQ|Elimination'])\n",
    "\n",
    "d = r['ACO2EQ|Elimination']\n",
    "\n",
    "numlist = list(groups.keys()) + ['cattle_meat','cow_milk']\n",
    "for group in numlist:\n",
    "    n = r['ACO2EQ|Elimination|%s' % group]\n",
    "    print (group,n,n/d)\n",
    "    "
   ]
  },
  {
   "cell_type": "code",
   "execution_count": 732,
   "metadata": {},
   "outputs": [
    {
     "name": "stdout",
     "output_type": "stream",
     "text": [
      "Bovid 40.84165399532299\n",
      "Ruminant 43.919547114023324\n",
      "Ruminant Meat 476.8178264568786\n",
      "Ruminant Milk 16.755836928629183\n",
      "cattle_meat 492.4077143159149\n",
      "cow_milk 15.804695141882737\n"
     ]
    }
   ],
   "source": [
    "r = scenarios.loc[2050]\n",
    "\n",
    "numlist = list(groups.keys()) + ['cattle_meat','cow_milk']\n",
    "for group in numlist:\n",
    "    n = r['EI_perunit|Elimination|%s' % group]\n",
    "    print (group,n)"
   ]
  },
  {
   "cell_type": "code",
   "execution_count": 734,
   "metadata": {
    "scrolled": true
   },
   "outputs": [
    {
     "name": "stdout",
     "output_type": "stream",
     "text": [
      "Bovid 947.2442650354446\n",
      "Ruminant 980.7588858200104\n",
      "Ruminant Meat 2112.892701117055\n",
      "Ruminant Milk 490.97055360796065\n",
      "cattle_meat 2136.0100521544937\n",
      "cow_milk 468.7154018371081\n"
     ]
    }
   ],
   "source": [
    "r = scenarios.loc[2050]\n",
    "\n",
    "numlist = list(groups.keys()) + ['cattle_meat','cow_milk']\n",
    "for group in numlist:\n",
    "    n = r['EI_perprotein|Elimination|%s' % group]\n",
    "    print (group,n)"
   ]
  },
  {
   "cell_type": "code",
   "execution_count": 735,
   "metadata": {},
   "outputs": [
    {
     "name": "stdout",
     "output_type": "stream",
     "text": [
      "Bovid 186.80415605815344\n",
      "Ruminant 200.88201947039076\n",
      "Ruminant Meat 2180.899717601064\n",
      "Ruminant Milk 76.63891322469597\n",
      "cattle_meat 2252.205738774497\n",
      "cow_milk 72.28852039327046\n"
     ]
    }
   ],
   "source": [
    "r = scenarios.loc[2050]\n",
    "\n",
    "numlist = list(groups.keys()) + ['cattle_meat','cow_milk']\n",
    "for group in numlist:\n",
    "    n = r['DD_perunit|Elimination|%s' % group]\n",
    "    print (group,n)"
   ]
  },
  {
   "cell_type": "markdown",
   "metadata": {},
   "source": [
    "# Figures"
   ]
  },
  {
   "cell_type": "markdown",
   "metadata": {},
   "source": [
    "## Figure Paramters"
   ]
  },
  {
   "cell_type": "code",
   "execution_count": 534,
   "metadata": {},
   "outputs": [],
   "source": [
    "figw = 8.5\n",
    "figh = 11\n",
    "\n",
    "labelw = 90\n",
    "\n",
    "cap_fontsize = 9\n",
    "    \n",
    "plt.rc('xtick',labelsize=8)\n",
    "plt.rc('ytick',labelsize=8)\n",
    "plt.rc('legend',fontsize=8)\n",
    "plt.rc('axes',labelsize=9)\n",
    "plt.rc('axes',titlesize=10)"
   ]
  },
  {
   "cell_type": "markdown",
   "metadata": {},
   "source": [
    "## Figure 1 - Animal Ag Emissions and Land Use By Species"
   ]
  },
  {
   "cell_type": "code",
   "execution_count": 535,
   "metadata": {},
   "outputs": [
    {
     "data": {
      "image/png": "[encoded data removed]",
      "text/plain": [
       "<Figure size 612x792 with 2 Axes>"
      ]
     },
     "metadata": {
      "needs_background": "light"
     },
     "output_type": "display_data"
    }
   ],
   "source": [
    "pdffile = \"Figures/Figure1.pdf\"\n",
    "\n",
    "with PdfPages(pdffile) as pdf:    \n",
    "    \n",
    "\n",
    "    fig = plt.figure(figsize = (figw,figh))\n",
    "\n",
    "    panelw = 4.5\n",
    "    panelh = panelw/1.61\n",
    "    \n",
    "    label_pos = -.075\n",
    "    \n",
    "    margin_top = 1\n",
    "    \n",
    "    panelx = (figw - panelw)/2\n",
    "    panely = figh - margin_top - panelh\n",
    "    \n",
    "    ax = fig.add_axes([panelx/figw,panely/figh,panelw/figw,panelh/figh])\n",
    "    \n",
    "    df = livestock_data.groupby('Category').sum()\n",
    "    df['Emissions'] = df['Emissions|CO2'] + 34/1000 * df['Emissions|CH4'] + 298/1000 * df['Emissions|N2O']\n",
    "    \n",
    "    plot_species = ['cattle','buffalo','sheep','goats','pigs','poultry']\n",
    "    plot_meat = np.array([\n",
    "        df.loc['cattle_meat'].Emissions,\n",
    "        df.loc['buffalo_meat'].Emissions,\n",
    "        df.loc['sheep_meat'].Emissions,\n",
    "        df.loc['goat_meat'].Emissions,\n",
    "        df.loc['pig_meat'].Emissions,\n",
    "        df.loc['chicken_meat'].Emissions + df.loc['duck_meat'].Emissions,\n",
    "        ])\n",
    "\n",
    "    plot_milk = np.array([\n",
    "        df.loc['cow_milk'].Emissions,\n",
    "        df.loc['buffalo_milk'].Emissions,\n",
    "        df.loc['sheep_milk'].Emissions,\n",
    "        df.loc['goat_milk'].Emissions,\n",
    "        0,\n",
    "        0,\n",
    "    ])\n",
    "\n",
    "    plot_eggs = np.array([\n",
    "        0,\n",
    "        0,\n",
    "        0,\n",
    "        0,\n",
    "        0,\n",
    "        df.loc['eggs'].Emissions,\n",
    "    ])\n",
    "\n",
    "    p1 = ax.bar(plot_species,plot_meat)\n",
    "    p2 = ax.bar(plot_species,plot_milk,bottom=plot_meat)\n",
    "    p3 = ax.bar(plot_species,plot_eggs,bottom=plot_meat + plot_milk)\n",
    "    ax.set_ylabel(r'Emissions (gigatonnes $CO_{2}eq$)')\n",
    "    ax.set_ylim(0,6)\n",
    "    ax.legend((p1[0], p2[0], p3[0]), ('Meat', 'Milk','Eggs'), frameon=False)\n",
    "    ax.text(label_pos,1.05,\"A\",transform=ax.transAxes,fontsize=14,fontweight='bold',horizontalalignment='right')\n",
    "    ax.yaxis.set_label_coords(label_pos,0.5,transform=ax.transAxes)\n",
    "    \n",
    "    margin_between = 1\n",
    "    \n",
    "    panelx = (figw - panelw)/2\n",
    "    panely -= panelh + margin_between\n",
    "    \n",
    "    ax = fig.add_axes([panelx/figw,panely/figh,panelw/figw,panelh/figh])\n",
    "    \n",
    "    plot_species = ['cattle','buffalo','sheep','goats','pigs','poultry']\n",
    "    plot_meat = np.array([\n",
    "        df.loc['cattle_meat']['Land Use'],\n",
    "        df.loc['buffalo_meat']['Land Use'],\n",
    "        df.loc['sheep_meat']['Land Use'],\n",
    "        df.loc['goat_meat']['Land Use'],\n",
    "        df.loc['pig_meat']['Land Use'],\n",
    "        df.loc['chicken_meat']['Land Use'] + df.loc['duck_meat']['Land Use'], \n",
    "    ])\n",
    "\n",
    "    plot_milk = np.array([\n",
    "        df.loc['cow_milk']['Land Use'],\n",
    "        df.loc['buffalo_milk']['Land Use'],\n",
    "        df.loc['sheep_milk']['Land Use'],\n",
    "        df.loc['goat_milk']['Land Use'],\n",
    "        0,\n",
    "        0,\n",
    "    ])\n",
    "\n",
    "    plot_eggs = np.array([\n",
    "        0,\n",
    "        0,\n",
    "        0,\n",
    "        0,\n",
    "        0,\n",
    "        df.loc['eggs']['Land Use'],\n",
    "    ])\n",
    "\n",
    "    p1 = ax.bar(plot_species,plot_meat)\n",
    "    p2 = ax.bar(plot_species,plot_milk,bottom=plot_meat)\n",
    "    p3 = ax.bar(plot_species,plot_eggs,bottom=plot_meat + plot_milk)\n",
    "    ax.set_ylabel(r'Land Use (million $km^2$)')\n",
    "    ax.set_ylim(0,30)\n",
    "    ax.legend((p1[0], p2[0], p3[0]), ('Meat', 'Milk','Eggs'), frameon=False)\n",
    "    ax.text(label_pos,1.05,\"B\",transform=ax.transAxes,fontsize=14,fontweight='bold',horizontalalignment='right')\n",
    "    ax.yaxis.set_label_coords(label_pos,0.5,transform=ax.transAxes)\n",
    "    \n",
    "    \n",
    "    flh = r\"Figure 1. Global emissions and land use footprints of animal agriculture.\"\n",
    "    \n",
    "    flt = r'''Total $CO_2$ equivalent emissions (A) assembled from species, product and country-specific \n",
    "production data from FAOSTAT for 2018 and species, product, region and greenhouse-gas \n",
    "specific emissions data from GLEAM (MacLeod et al., 2018), using $CO_2$ equivalents of 34 \n",
    "for $CH_4$ and 298 for $N_{2}O$. Land use (B) assembled from species, product and country-specific \n",
    "production data from FAOSTAT for 2018 and species and product specific land use data from \n",
    "(Poore and Nemecek, 2018). \n",
    "'''\n",
    "    \n",
    "    annot_txt = flh + \"\\n\\n\" + tw.fill(tw.dedent(flt.rstrip()), width=labelw)\n",
    "\n",
    "    plt.figtext(1/figw, 1/figh, annot_txt, horizontalalignment='left', verticalalignment='bottom', fontsize=cap_fontsize, multialignment='left', wrap=\"True\")\n",
    "\n",
    "    \n",
    "    pdf.savefig()\n",
    "    \n",
    "    \n",
    "    "
   ]
  },
  {
   "cell_type": "markdown",
   "metadata": {},
   "source": [
    "## Figure 1-S1 - Animal Ag Emissions and Gas and Species"
   ]
  },
  {
   "cell_type": "code",
   "execution_count": 536,
   "metadata": {},
   "outputs": [
    {
     "data": {
      "image/png": "[encoded data removed]",
      "text/plain": [
       "<Figure size 612x792 with 3 Axes>"
      ]
     },
     "metadata": {
      "needs_background": "light"
     },
     "output_type": "display_data"
    }
   ],
   "source": [
    "pdffile = \"Figures/Figure1-S1.pdf\"\n",
    "\n",
    "with PdfPages(pdffile) as pdf:    \n",
    "    \n",
    "    figw = 8.5\n",
    "    figh = 11\n",
    "    \n",
    "    fig = plt.figure(figsize = (figw,figh))\n",
    "\n",
    "    panelw = 3\n",
    "    panelh = panelw/1.61\n",
    "    \n",
    "    margin_top = 1\n",
    "    \n",
    "    panelx = (figw - panelw)/2\n",
    "    panely = figh - margin_top - panelh\n",
    "    \n",
    "    panel_margin = .65\n",
    "    \n",
    "    df = livestock_data.groupby('Category').sum()\n",
    "    plot_species = ['cattle','buffalo','sheep','goats','pigs','poultry']\n",
    "    \n",
    "    axA = fig.add_axes([panelx/figw,panely/figh,panelw/figw,panelh/figh])\n",
    "    c = \"Emissions|CO2\" \n",
    "\n",
    "    plot_meat = np.array([\n",
    "        df.loc['cattle_meat'][c],\n",
    "        df.loc['buffalo_meat'][c],\n",
    "        df.loc['sheep_meat'][c],\n",
    "        df.loc['goat_meat'][c],\n",
    "        df.loc['pig_meat'][c],\n",
    "        df.loc['chicken_meat'][c] + df.loc['duck_meat'][c],\n",
    "    ])\n",
    "\n",
    "    plot_milk = np.array([\n",
    "        df.loc['cow_milk'][c],\n",
    "        df.loc['buffalo_milk'][c],\n",
    "        df.loc['sheep_milk'][c],\n",
    "        df.loc['goat_milk'][c],\n",
    "        0,\n",
    "        0,\n",
    "    ])\n",
    "\n",
    "    plot_eggs = np.array([\n",
    "        0,\n",
    "        0,\n",
    "        0,\n",
    "        0,\n",
    "        0,\n",
    "        df.loc['eggs'][c],\n",
    "    ])\n",
    "\n",
    "    pA1 = axA.bar(plot_species,plot_meat)\n",
    "    pA2 = axA.bar(plot_species,plot_milk,bottom=plot_meat)\n",
    "    pA3 = axA.bar(plot_species,plot_eggs,bottom=plot_meat + plot_milk)\n",
    "    axA.set_ylabel(r\"Emissions $CO_{2}$ (gigatonnes)\")\n",
    "    axA.set_ylim(0,1.0)\n",
    "    axA.text(-.125,1.1,\"A\",transform=axA.transAxes,fontsize=14,fontweight='bold',horizontalalignment='right')\n",
    "    axA.set_xticks(np.arange(0,len(plot_species)))\n",
    "    axA.set_xticklabels([])\n",
    "    axA.yaxis.set_label_coords(-0.125,0.5,transform=axA.transAxes)\n",
    "    axA.legend((pA1[0], pA2[0], pA3[0]), ('Meat', 'Milk','Eggs'), loc='upper left', frameon=False, bbox_to_anchor=(1.04,1.0))\n",
    "\n",
    "    panely -= panelh + panel_margin\n",
    "    \n",
    "    axB = fig.add_axes([panelx/figw,panely/figh,panelw/figw,panelh/figh])\n",
    "    c = \"Emissions|CH4\" \n",
    "\n",
    "    plot_meat = np.array([\n",
    "        df.loc['cattle_meat'][c],\n",
    "        df.loc['buffalo_meat'][c],\n",
    "        df.loc['sheep_meat'][c],\n",
    "        df.loc['goat_meat'][c],\n",
    "        df.loc['pig_meat'][c],\n",
    "        df.loc['chicken_meat'][c] + df.loc['duck_meat'][c],\n",
    "    ])\n",
    "\n",
    "    plot_milk = np.array([\n",
    "        df.loc['cow_milk'][c],\n",
    "        df.loc['buffalo_milk'][c],\n",
    "        df.loc['sheep_milk'][c],\n",
    "        df.loc['goat_milk'][c],\n",
    "        0,\n",
    "        0,\n",
    "    ])\n",
    "\n",
    "    plot_eggs = np.array([\n",
    "        0,\n",
    "        0,\n",
    "        0,\n",
    "        0,\n",
    "        0,\n",
    "        df.loc['eggs'][c],\n",
    "    ])\n",
    "\n",
    "    pB1 = axB.bar(plot_species,plot_meat)\n",
    "    pB2 = axB.bar(plot_species,plot_milk,bottom=plot_meat)\n",
    "    pB3 = axB.bar(plot_species,plot_eggs,bottom=plot_meat + plot_milk)\n",
    "    axB.set_ylabel(r\"Emissions $CH_{4}$ (megatonnes)\")\n",
    "    axB.set_ylim(0,100)\n",
    "    axB.text(-.125,1.1,\"B\",transform=axB.transAxes,fontsize=14,fontweight='bold',horizontalalignment='right')\n",
    "    axB.set_xticks(np.arange(0,len(plot_species)))\n",
    "    axB.set_xticklabels([])\n",
    "    axB.yaxis.set_label_coords(-0.125,0.5)\n",
    "    axB.legend((pB1[0], pB2[0], pB3[0]), ('Meat', 'Milk','Eggs'), loc='upper left',frameon=False,bbox_to_anchor=(1.04,1.0))\n",
    "   \n",
    "    \n",
    "    panely -= panelh + panel_margin\n",
    "    \n",
    "    axC = fig.add_axes([panelx/figw,panely/figh,panelw/figw,panelh/figh])\n",
    "    c = \"Emissions|N2O\" \n",
    "\n",
    "    plot_meat = np.array([\n",
    "        df.loc['cattle_meat'][c],\n",
    "        df.loc['buffalo_meat'][c],\n",
    "        df.loc['sheep_meat'][c],\n",
    "        df.loc['goat_meat'][c],\n",
    "        df.loc['pig_meat'][c],\n",
    "        df.loc['chicken_meat'][c] + df.loc['duck_meat'][c],\n",
    "    ])\n",
    "\n",
    "    plot_milk = np.array([\n",
    "        df.loc['cow_milk'][c],\n",
    "        df.loc['buffalo_milk'][c],\n",
    "        df.loc['sheep_milk'][c],\n",
    "        df.loc['goat_milk'][c],\n",
    "        0,\n",
    "        0,\n",
    "    ])\n",
    "\n",
    "    plot_eggs = np.array([\n",
    "        0,\n",
    "        0,\n",
    "        0,\n",
    "        0,\n",
    "        0,\n",
    "        df.loc['eggs'][c],\n",
    "    ])\n",
    "\n",
    "    p1 = axC.bar(plot_species,plot_meat)\n",
    "    p2 = axC.bar(plot_species,plot_milk,bottom=plot_meat)\n",
    "    p3 = axC.bar(plot_species,plot_eggs,bottom=plot_meat + plot_milk)\n",
    "    axC.set_ylabel(r\"Emissions $N_{2}O$ (megatonnes)\")\n",
    "    axC.set_ylim(0,5)\n",
    "    axC.text(-.125,1.1,\"C\",transform=axC.transAxes,fontsize=14,fontweight='bold',horizontalalignment='right')\n",
    "    axC.set_xticks(np.arange(0,len(plot_species)))\n",
    "    axC.set_xticklabels(plot_species,rotation=90)\n",
    "    axC.yaxis.set_label_coords(-0.125,0.5)\n",
    "    axC.legend((p1[0], p2[0], p3[0]), ('Meat', 'Milk','Eggs'), loc='upper left', frameon=False, bbox_to_anchor=(1.04,1.0))            \n",
    "        \n",
    "    \n",
    "    flh = r\"Figure 1-S1. Gas-specific emission footprints of animal agriculture.\"\n",
    "    \n",
    "    flt = r'''Assembled from species, product and country-specific production data from FAOSTAT for \n",
    "2018 and species, product, region and greenhouse gas-specific emissions data from \n",
    "GLEAM (MacLeod et al., 2018).'''\n",
    "    annot_txt = flh + \"\\n\\n\" + tw.fill(tw.dedent(flt.rstrip()), width=labelw)\n",
    "\n",
    "    plt.figtext(1/figw, 1/figh, annot_txt, horizontalalignment='left', verticalalignment='bottom', fontsize=cap_fontsize, multialignment='left', wrap=\"True\")\n",
    "\n",
    "    \n",
    "    pdf.savefig()\n",
    "    \n",
    "    "
   ]
  },
  {
   "cell_type": "markdown",
   "metadata": {},
   "source": [
    "## Figure 2 - Comparing Baseline, Phaseout of Bovids and Phaseout of all Livestock \n",
    "\n",
    "Function creates different versions for different subsets of data"
   ]
  },
  {
   "cell_type": "code",
   "execution_count": 537,
   "metadata": {},
   "outputs": [],
   "source": [
    "def Figure2(plotname,plotlabel,plotcaption,scen,scenlabel,scen2=\"\",scen2label=\"\"):\n",
    "\n",
    "    pdffile = \"Figures/%s.pdf\" % plotname\n",
    "\n",
    "    with PdfPages(pdffile) as pdf:    \n",
    "\n",
    "        figw = 8.5\n",
    "        figh = 11\n",
    "\n",
    "        fig = plt.figure(figsize = (figw,figh))\n",
    "\n",
    "        panelw = 2\n",
    "        panelh = panelw/1.61\n",
    "\n",
    "        margin_top = 1\n",
    "        margin_between = .75\n",
    "\n",
    "        x = [1.5,7 - panelw]\n",
    "        y = [figh - 1 - (i+1) * panelh - i * (margin_between) for i in [0,1,2,3]]\n",
    "\n",
    "        ax = [[],[],[],[]]\n",
    "\n",
    "        for j in [0,1,2,3]:\n",
    "            for i in [0,1]:\n",
    "                ax[j].append(fig.add_axes([x[i]/figw,y[j]/figh,panelw/figw,panelh/figh]))\n",
    "\n",
    "        units = {\n",
    "            'CO2' : \"Gt/year\",\n",
    "            'CH4' : \"Mt/year\",\n",
    "            'N2O' : \"Mt/year\"\n",
    "        }\n",
    "\n",
    "        pp_units = {\n",
    "            'CO2' : \"ppm\",\n",
    "            'CH4' : \"ppb\",\n",
    "            'N2O' : \"ppb\"\n",
    "        }\n",
    "\n",
    "\n",
    "        factor = {\n",
    "            'CO2' : 1,\n",
    "            'CH4' : 1,\n",
    "            'N2O' : 1\n",
    "        }\n",
    "\n",
    "        label_pos = -0.2\n",
    "        \n",
    "        r = scenarios.loc[2020:2100]\n",
    "        \n",
    "        for ai,gas in enumerate(gases):\n",
    "            l1 = ax[ai][0].plot(r['Emissions|%s|BAU' % gas],c='red')\n",
    "            l2 = ax[ai][0].plot(r['Emissions|%s|%s' % (gas,scen)],c='green')\n",
    "            l3 = \"\"\n",
    "            if scen2 != \"\":\n",
    "                l3 = ax[ai][0].plot(r['Emissions|%s|%s' % (gas,scen2)],c='green',linestyle='dashed')\n",
    "            ax[ai][1].plot(r['Concentration|%s|BAU' % gas],c='red')\n",
    "            ax[ai][1].plot(r['Concentration|%s|%s' % (gas,scen)],c='green')\n",
    "            if scen2 != \"\":\n",
    "                ax[ai][1].plot(r['Concentration|%s|%s' % (gas,scen2)],c='green', linestyle='dashed')\n",
    "\n",
    "            ax[ai][0].set_title(\"Emissions \" + gas, fontsize=8)\n",
    "            ax[ai][1].set_title(\"Atmospheric Concentration \" + gas, fontsize=8)\n",
    "            ax[ai][0].set_ylabel(units[gas],fontsize=8)\n",
    "            ax[ai][0].set_ylim(0,)\n",
    "            ax[ai][1].set_ylabel(pp_units[gas],fontsize=8)\n",
    "            ax[ai][0].yaxis.set_label_coords(label_pos,0.5)\n",
    "            ax[ai][1].yaxis.set_label_coords(label_pos,0.5)\n",
    "            ax[ai][0].set_xlabel(\"Year\",fontsize=8)\n",
    "            ax[ai][1].set_xlabel(\"Year\",fontsize=8)\n",
    "\n",
    "        ax[3][1].plot(r['RF|BAU'],c='red')\n",
    "        ax[3][1].plot(r['RF|%s' %scen],c='green')\n",
    "        if scen2 != \"\":\n",
    "            ax[3][1].plot(r['RF|%s' %scen2],c='green',linestyle='dashed')\n",
    "        ax[3][1].set_title(\"Combined Global Warming Impact\", fontsize=8)\n",
    "        ax[3][1].yaxis.set_label_coords(label_pos,0.5)\n",
    "\n",
    "        ax[0][0].text(label_pos,1.2,\"A\",transform=ax[0][0].transAxes,fontsize=14,fontweight='bold',horizontalalignment = 'right')\n",
    "        ax[0][1].text(label_pos,1.2,\"B\",transform=ax[0][1].transAxes,fontsize=14,fontweight='bold',horizontalalignment = 'right')\n",
    "        ax[3][1].text(label_pos,1.2,\"C\",transform=ax[3][1].transAxes,fontsize=14,fontweight='bold',horizontalalignment = 'right')\n",
    "\n",
    "        # Set tick font size\n",
    "\n",
    "        for i in range(0,4):\n",
    "            for j in range(0,2):\n",
    "                for label in (ax[i][j].get_xticklabels() + ax[i][j].get_yticklabels()):\n",
    "                    label.set_fontsize(8)\n",
    "\n",
    "        for i in range(0,4):\n",
    "            for j in range(0,2):\n",
    "                ax[i][j].set_xlim(2020,2100)\n",
    "\n",
    "        ax[3][0].set_visible(False)\n",
    "        ax[3][1].set_ylabel(r\"Radiative Forcing $Wm^{-2}$\",fontsize=8)                \n",
    "\n",
    "\n",
    "        legend_lines = [\n",
    "            Line2D([0],[0],color='red', lw=2),\n",
    "            Line2D([0],[0],color='green', lw=2),\n",
    "        ]\n",
    "        \n",
    "        legend_labels = [\n",
    "            'Business as Usual Diet',\n",
    "            scenlabel,\n",
    "        ]\n",
    "            \n",
    "        if scen2 != \"\":\n",
    "            legend_lines = [\n",
    "                Line2D([0],[0],color='red', lw=2),\n",
    "                Line2D([0],[0],color='green', lw=2, linestyle='dashed'),\n",
    "                Line2D([0],[0],color='green', lw=2),\n",
    "            ]\n",
    "    \n",
    "            legend_labels = [\n",
    "                'Business as Usual Diet',\n",
    "                scen2label,\n",
    "                scenlabel,\n",
    "            ]\n",
    "\n",
    "\n",
    "        plt.legend(legend_lines,legend_labels,bbox_to_anchor=(-.75,.5), borderaxespad=0, frameon=False)\n",
    "\n",
    "        flh = plotlabel\n",
    "\n",
    "        flt = plotcaption \n",
    "        \n",
    "        annot_txt = flh + \"\\n\\n\" + tw.fill(tw.dedent(flt.rstrip()), width=labelw)\n",
    "\n",
    "        plt.figtext(1/figw, 1/figh, annot_txt, horizontalalignment='left', verticalalignment='bottom', fontsize=cap_fontsize, multialignment='left', wrap=\"True\")\n",
    "\n",
    "        pdf.savefig()\n",
    "    "
   ]
  },
  {
   "cell_type": "code",
   "execution_count": 538,
   "metadata": {},
   "outputs": [
    {
     "data": {
      "image/png": "[encoded data removed]",
      "text/plain": [
       "<Figure size 612x792 with 8 Axes>"
      ]
     },
     "metadata": {
      "needs_background": "light"
     },
     "output_type": "display_data"
    }
   ],
   "source": [
    "plotname = \"Figure2\"\n",
    "plotlabel = r\"Figure 2. Impact of ending animal agriculture on atmospheric greenhouse gas levels.\"\n",
    "plotcaption = r'''(A) Projected annual emissions of CO2, CH4 and N2O for Business as Usual, \n",
    "Plant Only and Bovid Free diets assuming 15 year transitions to new diets. \n",
    "(B) Projected atmospheric concentrations of CO2, CH4 and N2O under each emission \n",
    "scenario. (C) Radiative Forcing (RF) inferred from atmospheric concentrations in \n",
    "(B) by formula of (Myhre et al., 1998; Ramaswamy et al., 2001) as modified in \n",
    "MAGICC6 (Meinshausen et al., 2011).'''\n",
    "\n",
    "plotcaption = plotcaption.replace(\"CO2\",r\"$CO_2$\")\n",
    "plotcaption = plotcaption.replace(\"CH4\",r\"$CH_4$\")\n",
    "plotcaption = plotcaption.replace(\"N2O\",r\"$N_{2}O$\")\n",
    "\n",
    "scen = \"Phaseout\"\n",
    "scenlabel = \"Plant Only Diet\"\n",
    "scen2 = \"Phaseout|Bovid\"\n",
    "scen2label = \"Bovid Free Diet\"\n",
    "\n",
    "\n",
    "Figure2(plotname,plotlabel,plotcaption,scen,scenlabel,scen2,scen2label)\n"
   ]
  },
  {
   "cell_type": "code",
   "execution_count": 738,
   "metadata": {
    "scrolled": false
   },
   "outputs": [
    {
     "data": {
      "image/png": "[encoded data removed]",
      "text/plain": [
       "<Figure size 612x792 with 8 Axes>"
      ]
     },
     "metadata": {
      "needs_background": "light"
     },
     "output_type": "display_data"
    }
   ],
   "source": [
    "plotname = \"Figure2-S1\"\n",
    "plotlabel = \"Figure 2-S1. Comparison of effects of immediate cessation and phaseout\\nof animal agriculture on GHG levels.\"\n",
    "plotcaption = r'''(A) Projected annual emissions of $CO_2$, $CH_4$ and $N_{2}O$ for Business as Usual Diet and Plant Only Diet \n",
    "assuming an immediate dietary transition and 30 year linear biomass recovery trajectory, and 15 year transition to Plant Only Diet \n",
    "with 30 year linear  biomass recovery trajectory. \n",
    "(B) Projected atmospheric concentrations of $CO_2$, $CH_4$ and $N_{2}O$ under each emission scenario. \n",
    "(C) Radiative Forcing (RF) inferred from atmospheric concentrations in (B) by formula of (Myhre et al., 1998; \n",
    "Ramaswamy et al., 2001) as modified in MAGICC6 (Meinshausen et al., 2011).'''\n",
    "scen = \"Elimination\"\n",
    "scenlabel = \"Plant Only Diet\\n(Immediate Transition)\"\n",
    "scen2 = \"Phaseout\"\n",
    "scen2label = \"Plant Only Diet\\n(Phaseout)\"\n",
    "Figure2(plotname,plotlabel,plotcaption,scen,scenlabel,scen2,scen2label)\n",
    "\n"
   ]
  },
  {
   "cell_type": "code",
   "execution_count": 737,
   "metadata": {
    "scrolled": false
   },
   "outputs": [
    {
     "data": {
      "image/png": "[encoded data removed]",
      "text/plain": [
       "<Figure size 612x792 with 8 Axes>"
      ]
     },
     "metadata": {
      "needs_background": "light"
     },
     "output_type": "display_data"
    }
   ],
   "source": [
    "plotname = \"Figure2-S2\"\n",
    "plotlabel = r\"Figure 2-S2. Impact of slower biomass recovery on GHG levels.\"\n",
    "plotcaption = r'''(A) Projected annual emissions of CO2, CH4 and N2O for Business as \n",
    "Usual Diet and Plant Only Diet assuming a 15 year transition to the \n",
    "new diet and either 30 or 50 year linear biomass recovery trajectory on freed land. \n",
    "(B) Projected atmospheric concentrations of CO2, CH4 and N2O under \n",
    "each emission scenario. (D) Radiative Forcing (RF) inferred from \n",
    "atmospheric concentrations in (B) by formula of (Myhre et al., 1998; \n",
    "Ramaswamy et al., 2001) as modified in MAGICC6 (Meinshausen et al., 2011).'''\n",
    "scen = \"Phaseout\"\n",
    "scenlabel = \"Plant Only Diet\\n(30 Year Biomass Recovery)\"\n",
    "scen2 = \"Phaseout|Slow Recovery\"\n",
    "scen2label = \"Plant Only Diet\\n(50 Year Biomass Recovery)\"\n",
    "plotcaption = plotcaption.replace(\"CO2\",r\"$CO_2$\")\n",
    "plotcaption = plotcaption.replace(\"CH4\",r\"$CH_4$\")\n",
    "plotcaption = plotcaption.replace(\"N2O\",r\"$N_{2}O$\")\n",
    "\n",
    "Figure2(plotname,plotlabel,plotcaption,scen,scenlabel,scen2,scen2label)\n"
   ]
  },
  {
   "cell_type": "markdown",
   "metadata": {},
   "source": [
    "## Figure 3 Carbon Opportunity for Eliminating Animal Ag"
   ]
  },
  {
   "cell_type": "code",
   "execution_count": 541,
   "metadata": {},
   "outputs": [
    {
     "data": {
      "text/html": [
       "<div>\n",
       "<style scoped>\n",
       "    .dataframe tbody tr th:only-of-type {\n",
       "        vertical-align: middle;\n",
       "    }\n",
       "\n",
       "    .dataframe tbody tr th {\n",
       "        vertical-align: top;\n",
       "    }\n",
       "\n",
       "    .dataframe thead th {\n",
       "        text-align: right;\n",
       "    }\n",
       "</style>\n",
       "<table border=\"1\" class=\"dataframe\">\n",
       "  <thead>\n",
       "    <tr style=\"text-align: right;\">\n",
       "      <th></th>\n",
       "      <th>RF</th>\n",
       "      <th>ELCOC</th>\n",
       "    </tr>\n",
       "    <tr>\n",
       "      <th>Target</th>\n",
       "      <th></th>\n",
       "      <th></th>\n",
       "    </tr>\n",
       "  </thead>\n",
       "  <tbody>\n",
       "    <tr>\n",
       "      <th>Baseline</th>\n",
       "      <td>5.130507</td>\n",
       "      <td>-0.00</td>\n",
       "    </tr>\n",
       "    <tr>\n",
       "      <th>Phaseout Bovids</th>\n",
       "      <td>4.247229</td>\n",
       "      <td>-1.42</td>\n",
       "    </tr>\n",
       "    <tr>\n",
       "      <th>Phaseout</th>\n",
       "      <td>3.881035</td>\n",
       "      <td>-1.95</td>\n",
       "    </tr>\n",
       "    <tr>\n",
       "      <th>Elimination</th>\n",
       "      <td>3.824883</td>\n",
       "      <td>-2.03</td>\n",
       "    </tr>\n",
       "    <tr>\n",
       "      <th>RF2.6</th>\n",
       "      <td>2.600000</td>\n",
       "      <td>-3.56</td>\n",
       "    </tr>\n",
       "    <tr>\n",
       "      <th>RF1.9</th>\n",
       "      <td>1.900000</td>\n",
       "      <td>-4.30</td>\n",
       "    </tr>\n",
       "  </tbody>\n",
       "</table>\n",
       "</div>"
      ],
      "text/plain": [
       "                       RF  ELCOC\n",
       "Target                          \n",
       "Baseline         5.130507  -0.00\n",
       "Phaseout Bovids  4.247229  -1.42\n",
       "Phaseout         3.881035  -1.95\n",
       "Elimination      3.824883  -2.03\n",
       "RF2.6            2.600000  -3.56\n",
       "RF1.9            1.900000  -4.30"
      ]
     },
     "execution_count": 541,
     "metadata": {},
     "output_type": "execute_result"
    }
   ],
   "source": [
    "elcoc"
   ]
  },
  {
   "cell_type": "code",
   "execution_count": 741,
   "metadata": {},
   "outputs": [
    {
     "data": {
      "image/png": "[encoded data removed]",
      "text/plain": [
       "<Figure size 612x792 with 1 Axes>"
      ]
     },
     "metadata": {
      "needs_background": "light"
     },
     "output_type": "display_data"
    }
   ],
   "source": [
    "proj_end = scenarios.loc[2100]\n",
    "\n",
    "pdffile = \"Figures/Figure3.pdf\"\n",
    "\n",
    "with PdfPages(pdffile) as pdf:    \n",
    "    \n",
    "    figw = 8.5\n",
    "    figh = 11\n",
    "    \n",
    "    fig = plt.figure(figsize = (figw,figh))\n",
    "\n",
    "    panelh = 4\n",
    "    panelw = panelh/1.61\n",
    "    \n",
    "    margin_top = 2\n",
    "\n",
    "    panelx = 1.75\n",
    "    panely = figh - margin_top - panelh\n",
    "        \n",
    "    ax = fig.add_axes([panelx/figw,panely/figh,panelw/figw,panelh/figh])\n",
    "\n",
    "\n",
    "    # Data from Figure 3-S1 below\n",
    "    \n",
    "    labels = [r'2$\\degree$C','1.5$\\degree$C']\n",
    "    \n",
    "    ec = -elcoc.loc['Phaseout']['ELCOC']\n",
    "    plant = [ec,ec]\n",
    "    ec = -elcoc.loc['Phaseout Bovids']['ELCOC']\n",
    "    nobo = [ec,ec]\n",
    "    ec1 = -elcoc.loc['RF2.6']['ELCOC']\n",
    "    ec2 = -elcoc.loc['RF1.9']['ELCOC']\n",
    "    rftarget = [ec1,ec2]\n",
    "    width=.75\n",
    "    \n",
    "    l1 = ax.bar(labels,rftarget,width=width,color='lightgreen',label=\"Additional Emission Reductions Required to Reach Warming Target\")\n",
    "    l2 = ax.bar(labels,plant,width=width,color='limegreen',label='Additional Emission Reductions From Plant Only Diet')\n",
    "    l3 = ax.bar(labels,nobo,width=width,color='green',label='Emission Reductions From No Bovid Diet')\n",
    "    \n",
    "    ax.set_ylabel(r\"$CO_{2}$ Emissions Reductions Tt\",fontsize=10)\n",
    "    \n",
    "    ax.set_xticks(np.arange(0,len(labels)))\n",
    "    ax.set_xticklabels(labels,fontsize=10)\n",
    "    #ax.legend(bbox_to_anchor=(1,1.25), borderaxespad=0,fontsize=9,frameon=False)\n",
    "    #for label in (ax.get_xticklabels() + ax.get_yticklabels()):\n",
    "    #    label.set_fontsize(8)\n",
    "    ax.yaxis.set_label_coords(-2.1333333333333333 * .075,0.5)\n",
    "    ax.set_xlabel(\"Warming Target\",fontsize=10)\n",
    "    \n",
    "    \n",
    "\n",
    "# Add the patch to the Axes\n",
    "\n",
    "    flh = r\"Figure 3. Significance of dietary transition in curtailing global warming.\"\n",
    "    \n",
    "    flt = r'''Using projected CH4 and N2O levels in 2100 under business as usual diet\n",
    "as a baseline for RF calculation, we computed the CO2 reductions necessary\n",
    "to reduce RF from the business as usual diet level of RF=5.11 to the bovid-free diet\n",
    "level of RF=4.19 (1.47 Tt CO2), the plant-only diet level of RF=3.88 (1.92 Tt CO2),\n",
    "the 2.0˚C global warming target of RF=2.6 (3.53 Tt CO2) and the 1.5˚C global warming\n",
    "target of RF=1.9 (4.26 Tt CO2). For this analysis we used a corrected RF that accounts\n",
    "for the absence of other gases in our calculation by training a linear\n",
    "regression model on published MAGICC6 output to estimate from CO2, CH4 and N2O\n",
    "levels the residual RF impact of other gases. '''\n",
    "    \n",
    "    flt = flt.replace(\"CO2\",r\"$CO_2$\")\n",
    "    flt = flt.replace(\"CH4\",r\"$CH_4$\")\n",
    "    flt = flt.replace(\"N2O\",r\"$N_{2}O$\")\n",
    "\n",
    "    annot_txt = flh + \"\\n\\n\" + tw.fill(tw.dedent(flt.rstrip()), width=labelw)\n",
    "\n",
    "    plt.figtext(1/figw, 1/figh, annot_txt, horizontalalignment='left', verticalalignment='bottom', fontsize=cap_fontsize, multialignment='left', wrap=\"True\")\n",
    "\n",
    "    h = .15\n",
    "    ax.text(1.25,h,\"1.47 Tt Emission Reduction\\nFrom No Bovid Diet\",fontsize=8,transform=ax.transAxes, verticalalignment='center')\n",
    "    rect = patches.Rectangle((1.1,h), .1, .025, transform=ax.transAxes, clip_on = False, linewidth=0, facecolor='green')\n",
    "    ax.add_patch(rect)\n",
    "    \n",
    "    h = .35\n",
    "    ax.text(1.25,h,\"1.92 Tt Emission Reduction\\nFrom Plant Only Diet\",fontsize=8,transform=ax.transAxes, verticalalignment='center')\n",
    "    rect = patches.Rectangle((1.1,h), .1, .025, transform=ax.transAxes, clip_on = False, linewidth=0,  facecolor='limegreen')\n",
    "    ax.add_patch(rect)\n",
    "    \n",
    "    h = .65\n",
    "    ax.text(1.25,h,\"Additional Emission Reduction\\nRequiredTo Reach Warming Target\",fontsize=8,transform=ax.transAxes, verticalalignment='center')\n",
    "    rect = patches.Rectangle((1.1,h), .1, .025, transform=ax.transAxes, clip_on = False, linewidth=0,  facecolor='lightgreen')\n",
    "    ax.add_patch(rect)\n",
    "    \n",
    "    ax.text(0,.8,\"Test\",horizontalalignment='center',color='white')\n",
    "    \n",
    "    \n",
    "    pdf.savefig()"
   ]
  },
  {
   "cell_type": "markdown",
   "metadata": {},
   "source": [
    "## Figure 3-S1"
   ]
  },
  {
   "cell_type": "code",
   "execution_count": 543,
   "metadata": {},
   "outputs": [
    {
     "data": {
      "image/png": "[encoded data removed]",
      "text/plain": [
       "<Figure size 612x792 with 2 Axes>"
      ]
     },
     "metadata": {
      "needs_background": "light"
     },
     "output_type": "display_data"
    }
   ],
   "source": [
    "proj_end = scenarios.loc[2100]\n",
    "\n",
    "pdffile = \"Figures/Figure3-S1.pdf\"\n",
    "\n",
    "with PdfPages(pdffile) as pdf:    \n",
    "    \n",
    "    figw = 8.5\n",
    "    figh = 11\n",
    "    \n",
    "    fig = plt.figure(figsize = (figw,figh))\n",
    "\n",
    "    panelw = 3.5\n",
    "    panelh = panelw/1.61\n",
    "    \n",
    "    margin_top = 1.5\n",
    "\n",
    "    panelx = 1.5\n",
    "    panely = figh - margin_top - panelh\n",
    "        \n",
    "    ax = fig.add_axes([panelx/figw,panely/figh,panelw/figw,panelh/figh])\n",
    "    \n",
    "    ax.set_ylim(0,7)\n",
    "    \n",
    "    xl = 300\n",
    "    xh = 700\n",
    "    x = np.linspace(xl,xh,500)\n",
    "\n",
    "    CB = proj_end['Concentration|CO2|BAU']\n",
    "    MB = proj_end['Concentration|CH4|BAU']\n",
    "    NB = proj_end['Concentration|N2O|BAU']\n",
    "\n",
    "    xd = x - CB\n",
    "    xe = 2 * xd * 44 * 1.8E11 / 1E12 / 1000\n",
    "    (x_C,x_M,x_N,x_R) = RF_MAGICC(x,MB,NB)\n",
    "\n",
    "    ax.plot(xe,x_R,label=r'RF as function of [$CO_{2}$]',c='black')\n",
    "    px = plt.xlim()\n",
    "    py = plt.ylim()\n",
    "\n",
    "    xn = xe[np.argmin(np.abs(x_R-proj_end['RF|BAU']))]\n",
    "    ax.plot([px[0],xn],[proj_end['RF|BAU'],proj_end['RF|BAU']],c='red',label='Business as Usual Diet',linestyle='dashed')\n",
    "    ax.plot([xn,xn],[py[0],proj_end['RF|BAU']],c='red',linestyle='dashed')\n",
    "    \n",
    "    rft = proj_end['RF|Phaseout|Bovid']\n",
    "    xn = xe[np.argmin(np.abs(x_R-rft))]\n",
    "    ax.plot([px[0],xn],[rft,rft],c='purple',label='Bovid Free Diet (%.2f Tt)' %xn,linestyle='dashed')\n",
    "    ax.plot([xn,xn],[py[0],rft],c='purple',linestyle='dashed')\n",
    "    \n",
    "    rft = proj_end['RF|Phaseout']\n",
    "    xn = xe[np.argmin(np.abs(x_R-rft))]\n",
    "    ax.plot([px[0],xn],[rft,rft],c='green',label='Plant Only Diet (%.2f Tt)' %xn,linestyle='dashed')\n",
    "    ax.plot([xn,xn],[py[0],rft],c='green',linestyle='dashed')\n",
    "\n",
    "    rft = 2.6\n",
    "    xn = xe[np.argmin(np.abs(x_R-rft))]\n",
    "    ax.plot([px[0],xn],[rft,rft],c='blue',label='RF2.6 (%.2f Tt)' %xn,linestyle='dashed')\n",
    "    ax.plot([xn,xn],[py[0],rft],c='blue',linestyle='dashed')\n",
    "\n",
    "    rft = 1.9\n",
    "    xn = xe[np.argmin(np.abs(x_R-rft))]\n",
    "    ax.plot([px[0],xn],[rft,rft],c='orange',label='RF1.9 (%.2f Tt)' %xn,linestyle='dashed')\n",
    "    ax.plot([xn,xn],[py[0],rft],c='orange',linestyle='dashed')\n",
    "    ax.legend(bbox_to_anchor=(1.04,1), borderaxespad=0,frameon=False)\n",
    "    ax.set_xlabel(r\"$CO_{2}$ Reduction Tt Through 2100 (relative to BAU)\")\n",
    "    ax.set_ylabel(r\"Radiative Forcing $Wm^{-2}$ in 2100\")    \n",
    "    ax.yaxis.set_label_coords(-0.075,0.5)\n",
    "\n",
    "    ax.text(-.15,1.05,\"A\",transform=ax.transAxes,fontsize=14,fontweight='bold')\n",
    "    title = r\"RF from $CO_2$, $CH_4$ and $N_{2}O$ only\"\n",
    "    ax.set_title(title)\n",
    "    \n",
    "    for label in (ax.get_xticklabels() + ax.get_yticklabels()):\n",
    "        label.set_fontsize(8)\n",
    "\n",
    "    \n",
    "    panely = figh - margin_top - panelh - 1.0 - panelh\n",
    "    \n",
    "    ax = fig.add_axes([panelx/figw,panely/figh,panelw/figw,panelh/figh])\n",
    "    \n",
    "    ax.set_ylim(0,7)\n",
    "    \n",
    "    xl = 300\n",
    "    xh = 700\n",
    "    x = np.linspace(xl,xh,1000)\n",
    "\n",
    "    CB = proj_end['Concentration|CO2|BAU']\n",
    "    MB = proj_end['Concentration|CH4|BAU']\n",
    "    NB = proj_end['Concentration|N2O|BAU']\n",
    "\n",
    "    xd = x - CB\n",
    "    xe = 2 * xd * 44 * 1.8E11 / 1E12 / 1000\n",
    "    x_R = RF_cMAGICC(x,MB,NB)\n",
    "\n",
    "    ax.plot(xe,x_R,label=r'RF as function of [$CO_{2}$]',c='black')\n",
    "    px = plt.xlim()\n",
    "    py = plt.ylim()\n",
    "\n",
    "    xn = xe[np.argmin(np.abs(x_R-proj_end['RFC|BAU']))]\n",
    "    ax.plot([px[0],xn],[proj_end['RFC|BAU'],proj_end['RFC|BAU']],c='red',label='Business as Usual Diet',linestyle='dashed')\n",
    "    ax.plot([xn,xn],[py[0],proj_end['RFC|BAU']],c='red',linestyle='dashed')\n",
    "    \n",
    "    rft = proj_end['RFC|Phaseout|Bovid']\n",
    "    xn = xe[np.argmin(np.abs(x_R-rft))]\n",
    "    ax.plot([px[0],xn],[rft,rft],c='purple',label='Bovid Free Diet (%.2f Tt)' %xn,linestyle='dashed')\n",
    "    ax.plot([xn,xn],[py[0],rft],c='purple',linestyle='dashed')\n",
    "    \n",
    "    rft = proj_end['RFC|Phaseout']\n",
    "    xn = xe[np.argmin(np.abs(x_R-rft))]\n",
    "    ax.plot([px[0],xn],[rft,rft],c='green',label='Plant Only Diet (%.2f Tt)' %xn,linestyle='dashed')\n",
    "    ax.plot([xn,xn],[py[0],rft],c='green',linestyle='dashed')\n",
    "\n",
    "    rft = 2.6\n",
    "    xn = xe[np.argmin(np.abs(x_R-rft))]\n",
    "    ax.plot([px[0],xn],[rft,rft],c='blue',label='RF2.6 (%.2f Tt)' %xn,linestyle='dashed')\n",
    "    ax.plot([xn,xn],[py[0],rft],c='blue',linestyle='dashed')\n",
    "\n",
    "    rft = 1.9\n",
    "    xn = xe[np.argmin(np.abs(x_R-rft))]\n",
    "    ax.plot([px[0],xn],[rft,rft],c='orange',label='RF1.9 (%.2f Tt)' %xn,linestyle='dashed')\n",
    "    ax.plot([xn,xn],[py[0],rft],c='orange',linestyle='dashed')\n",
    "    ax.legend(bbox_to_anchor=(1.04,1), borderaxespad=0,frameon=False)\n",
    "    ax.set_xlabel(r\"$CO_{2}$ Reduction Tt Through 2100 (relative to BAU)\")\n",
    "    ax.set_ylabel(r\"Radiative Forcing $Wm^{-2}$ in 2100\")    \n",
    "    ax.yaxis.set_label_coords(-0.075,0.5)\n",
    "    \n",
    "    ax.text(-.15,1.05,\"B\",transform=ax.transAxes,fontsize=14,fontweight='bold')\n",
    "    ax.set_title(\"RF w/adjustment for other gases\")\n",
    "    \n",
    "    #for label in (ax.get_xticklabels() + ax.get_yticklabels()):\n",
    "    #    label.set_fontsize(8)\n",
    "    \n",
    "    flh = r\"Figure 3-S1. Full carbon opportunity cost of animal agriculture.\"\n",
    "    \n",
    "    flt = r'''We define the Emission and Land Carbon Opportunity Cost of animal agriculture as \n",
    "the total CO2 reduction necessary to lower the RF in 2100 from the level estimated \n",
    "for a business as usual (BAU) diet to the level estimated for a plant only diet \n",
    "(POD). For these calculations we fix the CH4 and N2O levels in the RF calculation \n",
    "at those estimated for the BAU diet in 2100 and adjust CO2 levels to reach the target RF.\n",
    "We also calculate ELCOC for just bovid sourced foods and determine the emission \n",
    "reductions necessary to reach RF’s of 2.6 and 1.9, often cited as targets for limiting warming \n",
    "to 2.0˚C and 1.5˚C respectively. (A) Shows the results for RF directly calculated from \n",
    "CO2, CH4 and N2O, while (B) shows an RF adjusted for other gases using multivariate \n",
    "linear regression on MAGICC6 output downloaded from the SSP database.'''\n",
    "    \n",
    "    flt = flt.replace(\"CO2\",r\"$CO_2$\")\n",
    "    flt = flt.replace(\"CH4\",r\"$CH_4$\")\n",
    "    flt = flt.replace(\"N2O\",r\"$N_{2}O$\")\n",
    "\n",
    "    annot_txt = flh + \"\\n\\n\" + tw.fill(tw.dedent(flt.rstrip()), width=labelw)\n",
    "\n",
    "    plt.figtext(1/figw, 1/figh, annot_txt, horizontalalignment='left', verticalalignment='bottom', fontsize=cap_fontsize, multialignment='left', wrap=\"True\")\n",
    "\n",
    "    pdf.savefig()\n",
    "    "
   ]
  },
  {
   "cell_type": "markdown",
   "metadata": {},
   "source": [
    "## Figure 4"
   ]
  },
  {
   "cell_type": "code",
   "execution_count": 544,
   "metadata": {},
   "outputs": [
    {
     "data": {
      "text/plain": [
       "['Emissions|CO2|Elimination|chicken_meat',\n",
       " 'Emissions|CO2|Phaseout|chicken_meat',\n",
       " 'Emissions|CH4|Elimination|chicken_meat',\n",
       " 'Emissions|CH4|Phaseout|chicken_meat',\n",
       " 'Emissions|N2O|Elimination|chicken_meat',\n",
       " 'Emissions|N2O|Phaseout|chicken_meat',\n",
       " 'Concentration|CO2|Elimination|chicken_meat',\n",
       " 'Concentration|CH4|Elimination|chicken_meat',\n",
       " 'Concentration|N2O|Elimination|chicken_meat',\n",
       " 'RF|Elimination|chicken_meat',\n",
       " 'RFC|Elimination|chicken_meat',\n",
       " 'RFD|Elimination|chicken_meat',\n",
       " 'CRFD|Elimination|chicken_meat',\n",
       " 'RFCD|Elimination|chicken_meat',\n",
       " 'CRFCD|Elimination|chicken_meat',\n",
       " 'Concentration|CO2|Phaseout|chicken_meat',\n",
       " 'Concentration|CH4|Phaseout|chicken_meat',\n",
       " 'Concentration|N2O|Phaseout|chicken_meat',\n",
       " 'RF|Phaseout|chicken_meat',\n",
       " 'RFC|Phaseout|chicken_meat',\n",
       " 'RFD|Phaseout|chicken_meat',\n",
       " 'CRFD|Phaseout|chicken_meat',\n",
       " 'RFCD|Phaseout|chicken_meat',\n",
       " 'CRFCD|Phaseout|chicken_meat',\n",
       " 'ACO2EQ|Elimination|chicken_meat',\n",
       " 'COC|Elimination|chicken_meat',\n",
       " 'ACO2EQ|Phaseout|chicken_meat',\n",
       " 'COC|Phaseout|chicken_meat',\n",
       " 'ACO2EQC|Elimination|chicken_meat',\n",
       " 'COCC|Elimination|chicken_meat',\n",
       " 'ACO2EQC|Phaseout|chicken_meat',\n",
       " 'COCC|Phaseout|chicken_meat',\n",
       " 'RFDI|Elimination|chicken_meat',\n",
       " 'RY_RFDW|Elimination|chicken_meat',\n",
       " 'RFDI|Phaseout|chicken_meat',\n",
       " 'RY_RFDW|Phaseout|chicken_meat',\n",
       " 'EI_perunit|Elimination|chicken_meat',\n",
       " 'DD_perunit|Elimination|chicken_meat',\n",
       " 'EI_perprotein|Elimination|chicken_meat',\n",
       " 'DD_perprotein|Elimination|chicken_meat',\n",
       " 'EI_perunit|Phaseout|chicken_meat',\n",
       " 'DD_perunit|Phaseout|chicken_meat',\n",
       " 'EI_perprotein|Phaseout|chicken_meat',\n",
       " 'DD_perprotein|Phaseout|chicken_meat']"
      ]
     },
     "execution_count": 544,
     "metadata": {},
     "output_type": "execute_result"
    }
   ],
   "source": [
    "[c for c in scenarios.columns if 'chicken' in c]"
   ]
  },
  {
   "cell_type": "code",
   "execution_count": 545,
   "metadata": {},
   "outputs": [
    {
     "data": {
      "image/png": "[encoded data removed]",
      "text/plain": [
       "<Figure size 612x792 with 5 Axes>"
      ]
     },
     "metadata": {
      "needs_background": "light"
     },
     "output_type": "display_data"
    }
   ],
   "source": [
    "pdffile = \"Figures/Figure4.pdf\"\n",
    "\n",
    "with PdfPages(pdffile) as pdf:    \n",
    "    \n",
    "    figw = 8.5\n",
    "    figh = 11\n",
    "    \n",
    "    fig = plt.figure(figsize = (figw,figh))\n",
    "\n",
    "    panelw = 3\n",
    "    panelh = panelw/1.61\n",
    "    \n",
    "    margin_top = 1\n",
    "    \n",
    "    panelx = (figw - panelw)/2\n",
    "    panely = figh - margin_top - panelh\n",
    "    \n",
    "    panel_margin = .65\n",
    "    \n",
    "    bar_offset = .25\n",
    "    bar_width = .25\n",
    "    legend_x = .70\n",
    "    \n",
    "    bar_off_meat = np.array([-bar_width/2,-bar_width/2,-bar_width/2,-bar_width/2,0,-bar_width/2])\n",
    "    bar_off_milk = np.array([bar_width/2,bar_width/2,bar_width/2,bar_width/2,0,0])\n",
    "    bar_off_eggs = np.array([0,0,0,0,0,bar_width/2])\n",
    "    \n",
    "    r = scenarios.loc[2050]\n",
    "    plot_species = ['buffalo','cattle','sheep','goats','pigs','chicken']\n",
    "\n",
    "    x_labels = ['buffalo','cattle','sheep','goats','pigs','chicken']\n",
    "    x_coords = np.array([1,2,3,4,5,6])\n",
    "\n",
    "    axA = fig.add_axes([panelx/figw,panely/figh,panelw/figw,panelh/figh])\n",
    "\n",
    "    meat_data = [\n",
    "        r['ACO2EQ|Elimination|buffalo_meat'],\n",
    "        r['ACO2EQ|Elimination|cattle_meat'],\n",
    "        r['ACO2EQ|Elimination|sheep_meat'],\n",
    "        r['ACO2EQ|Elimination|goat_meat'],\n",
    "        r['ACO2EQ|Elimination|pig_meat'],\n",
    "        r['ACO2EQ|Elimination|chicken_meat']\n",
    "    ]\n",
    "    meat_data = np.array(meat_data)\n",
    "    \n",
    "    milk_data = [\n",
    "        r['ACO2EQ|Elimination|buffalo_milk'],\n",
    "        r['ACO2EQ|Elimination|cow_milk'],\n",
    "        r['ACO2EQ|Elimination|sheep_milk'],\n",
    "        r['ACO2EQ|Elimination|goat_milk'],\n",
    "        0,\n",
    "        0\n",
    "    ]\n",
    "    milk_data = np.array(milk_data)\n",
    "    \n",
    "    egg_data = [\n",
    "        0,\n",
    "        0,\n",
    "        0,\n",
    "        0,\n",
    "        0,\n",
    "        r['ACO2EQ|Elimination|eggs'],\n",
    "    ]\n",
    "    egg_data = np.array(egg_data)\n",
    "    \n",
    "    pA1 = axA.bar(x_coords + bar_off_meat,meat_data,width=bar_width,label='meat')\n",
    "    pA2 = axA.bar(x_coords + bar_off_milk,milk_data,width=bar_width,label='milk')\n",
    "    pA3 = axA.bar(x_coords + bar_off_eggs,egg_data,width=bar_width,label='eggs')\n",
    "    \n",
    "    axA.set_ylabel(r'$aCO_2eq^{2050}$ (gigatonnes)')\n",
    "    axA.text(-.125,1.1,\"A\",transform=axA.transAxes,fontsize=14,fontweight='bold',horizontalalignment='right')\n",
    "    axA.set_xticks([1,2,3,4,5,6])\n",
    "    axA.set_xticklabels([])\n",
    "    axA.yaxis.set_label_coords(-0.125,0.5,transform=axA.transAxes)\n",
    "    axA.legend((pA1[0], pA2[0], pA3[0]), ('Meat', 'Milk','Eggs'), loc='upper left', frameon=False, bbox_to_anchor=(legend_x,1.0))\n",
    "\n",
    "    panely -= panelh + panel_margin\n",
    "    \n",
    "    axB = fig.add_axes([panelx/figw,panely/figh,panelw/figw,panelh/figh])\n",
    "    meat_data = [\n",
    "        r['EI_perunit|Elimination|buffalo_meat'],\n",
    "        r['EI_perunit|Elimination|cattle_meat'],\n",
    "        r['EI_perunit|Elimination|sheep_meat'],\n",
    "        r['EI_perunit|Elimination|goat_meat'],\n",
    "        r['EI_perunit|Elimination|pig_meat'],\n",
    "        r['EI_perunit|Elimination|chicken_meat']\n",
    "    ]\n",
    "    meat_data = np.array(meat_data)\n",
    "    \n",
    "    milk_data = [\n",
    "        r['EI_perunit|Elimination|buffalo_milk'],\n",
    "        r['EI_perunit|Elimination|cow_milk'],\n",
    "        r['EI_perunit|Elimination|sheep_milk'],\n",
    "        r['EI_perunit|Elimination|goat_milk'],\n",
    "        0,\n",
    "        0\n",
    "    ]\n",
    "    milk_data = np.array(milk_data)\n",
    "    \n",
    "    egg_data = [\n",
    "        0,\n",
    "        0,\n",
    "        0,\n",
    "        0,\n",
    "        0,\n",
    "        r['EI_perunit|Elimination|eggs'],\n",
    "    ]\n",
    "    egg_data = np.array(egg_data)\n",
    "    \n",
    "    \n",
    "    pB1 = axB.bar(x_coords + bar_off_meat,meat_data,width=bar_width,label='meat')\n",
    "    pB2 = axB.bar(x_coords + bar_off_milk,milk_data,width=bar_width,label='milk')\n",
    "    pB3 = axB.bar(x_coords + bar_off_eggs,egg_data,width=bar_width,label='eggs')\n",
    "    \n",
    "    axB.set_ylabel(r'kg $aCO_2eq^{2050}$ / kg product')\n",
    "    #axA.set_ylim(0,1.0)\n",
    "    axB.text(-.125,1.1,\"B\",transform=axB.transAxes,fontsize=14,fontweight='bold',horizontalalignment='right')\n",
    "    axB.set_xticks([1,2,3,4,5,6])\n",
    "    axB.set_xticklabels([])\n",
    "    axB.yaxis.set_label_coords(-0.125,0.5,transform=axB.transAxes)\n",
    "    #axB.legend((pB1[0], pB2[0], pB3[0]), ('Meat', 'Milk','Eggs'), loc='upper left', frameon=False, bbox_to_anchor=(legend_x,1.0))\n",
    "    \n",
    "    axBt = axB.twinx()\n",
    "    ymin = 0\n",
    "    ymax = axB.get_ylim()[1]\n",
    "    conv = (1.61 * 25) / 8.8  \n",
    "    axBt.set_ylim(ymin,ymax*conv)\n",
    "    axBt.set_ylabel(r'Driving km / kg product',rotation=-90)\n",
    "    axBt.yaxis.set_label_coords(1.20,0.5,transform=axBt.transAxes)\n",
    "    panely -= panelh + panel_margin\n",
    "    \n",
    "    axC = fig.add_axes([panelx/figw,panely/figh,panelw/figw,panelh/figh])\n",
    "    meat_data = [\n",
    "        r['EI_perprotein|Elimination|buffalo_meat'],\n",
    "        r['EI_perprotein|Elimination|cattle_meat'],\n",
    "        r['EI_perprotein|Elimination|sheep_meat'],\n",
    "        r['EI_perprotein|Elimination|goat_meat'],\n",
    "        r['EI_perprotein|Elimination|pig_meat'],\n",
    "        r['EI_perprotein|Elimination|chicken_meat']\n",
    "    ]\n",
    "    meat_data = np.array(meat_data)\n",
    "    \n",
    "    milk_data = [\n",
    "        r['EI_perprotein|Elimination|buffalo_milk'],\n",
    "        r['EI_perprotein|Elimination|cow_milk'],\n",
    "        r['EI_perprotein|Elimination|sheep_milk'],\n",
    "        r['EI_perprotein|Elimination|goat_milk'],\n",
    "        0,\n",
    "        0\n",
    "    ]\n",
    "    milk_data = np.array(milk_data)\n",
    "    \n",
    "    egg_data = [\n",
    "        0,\n",
    "        0,\n",
    "        0,\n",
    "        0,\n",
    "        0,\n",
    "        r['EI_perprotein|Elimination|eggs'],\n",
    "    ]\n",
    "    egg_data = np.array(egg_data)    \n",
    "    pC1 = axC.bar(x_coords + bar_off_meat,meat_data,width=bar_width,label='meat')\n",
    "    pC2 = axC.bar(x_coords + bar_off_milk,milk_data,width=bar_width,label='milk')\n",
    "    pC3 = axC.bar(x_coords + bar_off_eggs,egg_data,width=bar_width,label='eggs')\n",
    "    \n",
    "    axC.set_ylabel(r'kg $aCO_2eq^{2050}$ / kg protein')\n",
    "    #axA.set_ylim(0,1.0)\n",
    "    axC.text(-.125,1.1,\"C\",transform=axC.transAxes,fontsize=14,fontweight='bold',horizontalalignment='right')\n",
    "    axC.set_xticks([1,2,3,4,5,6])\n",
    "    axC.set_xticklabels([])\n",
    "    axC.yaxis.set_label_coords(-0.125,0.5,transform=axC.transAxes)\n",
    "    #axC.legend((pC1[0], pC2[0], pC3[0]), ('Meat', 'Milk','Eggs'), loc='upper left', frameon=False, bbox_to_anchor=(legend_x,1.0))\n",
    "    \n",
    "    axCt = axC.twinx()\n",
    "    ymin = 0\n",
    "    ymax = axC.get_ylim()[1]\n",
    "    conv = (1.61 * 25) / 8.8  \n",
    "    axCt.set_ylim(ymin,ymax*conv)\n",
    "    axCt.set_ylabel(r'Driving km / kg protein',rotation=-90)\n",
    "    axCt.yaxis.set_label_coords(1.20,0.5,transform=axCt.transAxes)\n",
    "    panely -= panelh + panel_margin        \n",
    "    axC.set_xticklabels(x_labels,rotation=90)\n",
    "    \n",
    "    flh = r\"Figure 4. Annualized CO$_2$ equivalents of animal agriculture.\"\n",
    "    \n",
    "    flt = r'''We calculated the (A) total annualized CO$_2$ equivalents through 2050, $aCO_2eq^{2050}$, \n",
    "for all tracked animal products, and the $aCO_2eq^{2050}$ per unit production (B) or per unit protein (C).\n",
    "For (B) and (C) we also convert the values to driving equivalents, assuming cars that get 10.6 km per liter of gas\n",
    "(the average of new cars in the United States).'''\n",
    "    annot_txt = flh + \"\\n\\n\" + tw.fill(tw.dedent(flt.rstrip()), width=labelw)\n",
    "\n",
    "    plt.figtext(1/figw, 1/figh, annot_txt, horizontalalignment='left', verticalalignment='bottom', fontsize=cap_fontsize, multialignment='left', wrap=\"True\")\n",
    "\n",
    "    \n",
    "    pdf.savefig()\n",
    "    \n",
    "    "
   ]
  },
  {
   "cell_type": "code",
   "execution_count": 546,
   "metadata": {},
   "outputs": [],
   "source": [
    "dfp['SSP'] = dfp.Scenario.apply(lambda x: x.split('-')[0])\n",
    "dfp['SSP-TARGET'] = dfp.Scenario.apply(lambda x: x.split('-')[1])"
   ]
  },
  {
   "cell_type": "code",
   "execution_count": 547,
   "metadata": {},
   "outputs": [
    {
     "data": {
      "image/png": "[encoded data removed]",
      "text/plain": [
       "<Figure size 612x792 with 1 Axes>"
      ]
     },
     "metadata": {
      "needs_background": "light"
     },
     "output_type": "display_data"
    }
   ],
   "source": [
    "pdffile = \"Figures/Figure5.pdf\"\n",
    "\n",
    "with PdfPages(pdffile) as pdf:    \n",
    "    \n",
    "    figw = 8.5\n",
    "    figh = 11\n",
    "    \n",
    "    fig = plt.figure(figsize = (figw,figh))\n",
    "\n",
    "    panelw = 4\n",
    "    panelh = panelw/1.61\n",
    "    \n",
    "    margin_top = 1\n",
    "    \n",
    "    panelx = 2.0\n",
    "    panely = figh - margin_top - panelh - 3\n",
    "    \n",
    "    ax = fig.add_axes([panelx/figw,panely/figh,panelw/figw,panelh/figh])\n",
    "    \n",
    "    dfpw19 = dfp[(dfp.Region == \"World\") & (dfp['SSP-TARGET'] == '19')].copy()\n",
    "    dfpw19.Year = dfpw19.Year.astype('int64')\n",
    "    for i,r in dfpw19.groupby(['Model','Scenario']):\n",
    "        ax.plot(r.Year,1e+3 * r['Agricultural Production|Livestock']/r['Population'],c='lightgrey',linewidth=2.5)\n",
    "    \n",
    "    r = scenarios.loc[2020:2100]\n",
    "    ax.plot(r.aa_exponential_phaseout * 35, c='green', linewidth = 5)\n",
    "    \n",
    "    ax.set_xticks([2020,2040,2060,2080,2100])\n",
    "    ax.set_xlabel(\"Year\")\n",
    "    ax.set_ylabel(\"Livestock production kg/person/year\")\n",
    "    \n",
    "    legend_lines = [\n",
    "        Line2D([0],[0],color='lightgrey', lw=2.5),\n",
    "        Line2D([0],[0],color='green', lw=5),\n",
    "    ]\n",
    "\n",
    "    legend_labels = [\n",
    "        'IPCC 1.5C Scenarios',\n",
    "        'This work',\n",
    "    ]\n",
    "\n",
    "    plt.legend(legend_lines,legend_labels,bbox_to_anchor=(1.04,1.0), borderaxespad=0, frameon=False)\n",
    "\n",
    "    \n",
    "    flh = \"Figure 5. Projected per capita livestock production in SSP/IAM RF 1.9 scenarios.\"\n",
    "    \n",
    "    flt = '''\\\n",
    "    We downloaded data for the Shared Socioeconomic Pathways (SSPs) (Riahi et al., 2017) \n",
    "    from the SSP database (Version 2.0; last updated December 2018), and plot here the \n",
    "    inferred per capita livestock production for scenarios meant to reach an RF target \n",
    "    of 1.9 in 2100. While there is widespread acknowledgement of the impact that ongoing \n",
    "    animal agriculture has on the climate, it is notable that most of these scenarios, \n",
    "    which represent the most aggressive proposed mitigation strategies in this modeling \n",
    "    framework, anticipate an increase in per capita livestock consumption, \n",
    "    and none anticipate any significant reduction below current levels, \n",
    "    in contrast to the complete elimination we propose here.\n",
    "    '''\n",
    "    annot_txt = flh + \"\\n\\n\" + tw.fill(tw.dedent(flt.rstrip()), width=labelw)\n",
    "\n",
    "    plt.figtext(1/figw, 1/figh, annot_txt, horizontalalignment='left', verticalalignment='bottom', fontsize=cap_fontsize, multialignment='left', wrap=\"True\")\n",
    "        \n",
    "    pdf.savefig()\n",
    "    \n",
    "    \n",
    "    \n",
    "    \n",
    "\n",
    "\n"
   ]
  },
  {
   "cell_type": "code",
   "execution_count": null,
   "metadata": {},
   "outputs": [],
   "source": []
  }
 ],
 "metadata": {
  "kernelspec": {
   "display_name": "Python 3",
   "language": "python",
   "name": "python3"
  },
  "language_info": {
   "codemirror_mode": {
    "name": "ipython",
    "version": 3
   },
   "file_extension": ".py",
   "mimetype": "text/x-python",
   "name": "python",
   "nbconvert_exporter": "python",
   "pygments_lexer": "ipython3",
   "version": "3.8.3"
  }
 },
 "nbformat": 4,
 "nbformat_minor": 4
}
