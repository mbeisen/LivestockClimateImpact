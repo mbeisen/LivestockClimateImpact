{
 "cells": [
  {
   "cell_type": "markdown",
   "metadata": {},
   "source": [
    "### Load Python libraries"
   ]
  },
  {
   "cell_type": "code",
   "execution_count": 2,
   "metadata": {},
   "outputs": [],
   "source": [
    "import numpy as np\n",
    "import pandas as pd"
   ]
  },
  {
   "cell_type": "markdown",
   "metadata": {},
   "source": [
    "### Filter FAOSTAT Files\n",
    "\n",
    "To include only the data we use and make files small enough for GitHub."
   ]
  },
  {
   "cell_type": "code",
   "execution_count": 27,
   "metadata": {},
   "outputs": [],
   "source": [
    "file = \"../FAOSTAT/Production_LivestockPrimary_E_All_Data_(Normalized)/Production_LivestockPrimary_E_All_Data_(Normalized).csv\"\n",
    "fao = pd.read_csv(file)\n",
    "area1 = fao.Area.unique()\n",
    "fao = fao[fao.Year == 2019]\n",
    "fao.to_csv(\"FAOSTAT/Filtered/Production_LivestockPrimary_E_All_Data_(Normalized).csv\", index=False)"
   ]
  },
  {
   "cell_type": "code",
   "execution_count": 28,
   "metadata": {},
   "outputs": [],
   "source": [
    "file = \"../FAOSTAT/Environment_Emissions_by_Sector_E_All_Data_(Normalized)/Environment_Emissions_by_Sector_E_All_Data_(Normalized).csv\"\n",
    "fao = pd.read_csv(file)\n",
    "area2 = fao.Area.unique()\n",
    "#fao = fao[fao.Area == \"World\"]\n",
    "fao.to_csv(\"FAOSTAT/Filtered/Environment_Emissions_by_Sector_E_All_Data_(Normalized).csv\", index=False)"
   ]
  },
  {
   "cell_type": "code",
   "execution_count": 29,
   "metadata": {},
   "outputs": [],
   "source": [
    "file = \"../FAOSTAT/FoodSupply_Crops_E_All_Data_(Normalized)/FoodSupply_Crops_E_All_Data_(Normalized).csv\"\n",
    "fao = pd.read_csv(file)\n",
    "area3 = fao.Area.unique()\n",
    "fao = fao[(fao.Area == \"World\") & (fao.Year == 2013)]\n",
    "fao.to_csv(\"FAOSTAT/Filtered/FoodSupply_Crops_E_All_Data_(Normalized).csv\", index=False)"
   ]
  },
  {
   "cell_type": "code",
   "execution_count": 30,
   "metadata": {},
   "outputs": [],
   "source": [
    "file = \"../FAOSTAT/FoodSupply_LivestockFish_E_All_Data_(Normalized)/FoodSupply_LivestockFish_E_All_Data_(Normalized).csv\"\n",
    "fao = pd.read_csv(file)\n",
    "area4 = fao.Area.unique()\n",
    "fao = fao[(fao.Area == \"World\") & (fao.Year == 2013)]\n",
    "fao.to_csv(\"FAOSTAT/Filtered/FoodSupply_LivestockFish_E_All_Data_(Normalized).csv\", index=False)"
   ]
  },
  {
   "cell_type": "code",
   "execution_count": 31,
   "metadata": {},
   "outputs": [],
   "source": [
    "file = \"../FAOSTAT/Trade_Crops_Livestock_E_All_Data_(Normalized)/Trade_Crops_Livestock_E_All_Data_(Normalized).csv\"\n",
    "fao = pd.read_csv(file)\n",
    "area5 = fao.Area.unique()\n",
    "fao = fao[fao.Year == 2019]\n",
    "fao.to_csv(\"FAOSTAT/Filtered/Trade_Crops_Livestock_E_All_Data_(Normalized).csv\", index=False)\n"
   ]
  },
  {
   "cell_type": "code",
   "execution_count": null,
   "metadata": {},
   "outputs": [],
   "source": [
    "file = \"../FAOSTAT/Trade_DetailedTradeMatrix_E_All_Data_(Normalized)/Trade_DetailedTradeMatrix_E_All_Data_(Normalized).csv\"\n",
    "fao = pd.read_csv(file)\n",
    "area6 = fao['Reporter Countries'].unique()\n",
    "area6 = fao['Partner Countries'].unique()\n",
    "fao = fao[fao.Year == 2019]\n",
    "\n",
    "encoding = \"utf_8\"\n",
    "datafile = \"Inputs/FAOSTAT_production_categories.csv\"\n",
    "fao_production_categories = pd.read_csv(datafile,encoding = encoding)\n",
    "fao = fao[fao.Item.isin(list(fao_production_categories.Item.values))]\n",
    "\n",
    "fao.to_csv(\"FAOSTAT/Filtered/Trade_DetailedTradeMatrix_E_All_Data_(Normalized).csv\", index=False)"
   ]
  },
  {
   "cell_type": "code",
   "execution_count": 21,
   "metadata": {
    "scrolled": false
   },
   "outputs": [
    {
     "data": {
      "text/plain": [
       "['Micronesia (Federated States of)', 'Puerto Rico', 'Tokelau']"
      ]
     },
     "execution_count": 21,
     "metadata": {},
     "output_type": "execute_result"
    }
   ],
   "source": [
    "a = [area1,areas2,area3,area4,area5,area6,area7]"
   ]
  },
  {
   "cell_type": "code",
   "execution_count": 11,
   "metadata": {},
   "outputs": [
    {
     "data": {
      "text/plain": [
       "['American Samoa',\n",
       " 'Anguilla',\n",
       " 'Aruba',\n",
       " 'Belgium-Luxembourg',\n",
       " 'Bermuda',\n",
       " 'British Virgin Islands',\n",
       " 'Cayman Islands',\n",
       " 'Channel Islands',\n",
       " 'Czechoslovakia',\n",
       " 'Ethiopia PDR',\n",
       " 'Falkland Islands (Malvinas)',\n",
       " 'French Guiana',\n",
       " 'Gibraltar',\n",
       " 'Greenland',\n",
       " 'Guadeloupe',\n",
       " 'Guam',\n",
       " 'Isle of Man',\n",
       " 'Marshall Islands',\n",
       " 'Martinique',\n",
       " 'Mayotte',\n",
       " 'Montserrat',\n",
       " 'Netherlands Antilles (former)',\n",
       " 'Norfolk Island',\n",
       " 'Northern Mariana Islands',\n",
       " 'Pacific Islands Trust Territory',\n",
       " 'Palau',\n",
       " 'Pitcairn Islands',\n",
       " 'R�union',\n",
       " 'Saint Helena, Ascension and Tristan da Cunha',\n",
       " 'Saint Pierre and Miquelon',\n",
       " 'Serbia and Montenegro',\n",
       " 'Sudan (former)',\n",
       " 'Turks and Caicos Islands',\n",
       " 'United Kingdom',\n",
       " 'United States Virgin Islands',\n",
       " 'USSR',\n",
       " 'Wallis and Futuna Islands',\n",
       " 'Western Sahara',\n",
       " 'Yugoslav SFR',\n",
       " 'South-Eastern Asia',\n",
       " 'European Union',\n",
       " 'Annex I countries',\n",
       " 'Non-Annex I countries',\n",
       " 'OECD']"
      ]
     },
     "execution_count": 11,
     "metadata": {},
     "output_type": "execute_result"
    }
   ],
   "source": [
    "[a for a in area2 if a not in area1]"
   ]
  },
  {
   "cell_type": "code",
   "execution_count": null,
   "metadata": {},
   "outputs": [],
   "source": []
  }
 ],
 "metadata": {
  "kernelspec": {
   "display_name": "Python 3",
   "language": "python",
   "name": "python3"
  },
  "language_info": {
   "codemirror_mode": {
    "name": "ipython",
    "version": 3
   },
   "file_extension": ".py",
   "mimetype": "text/x-python",
   "name": "python",
   "nbconvert_exporter": "python",
   "pygments_lexer": "ipython3",
   "version": "3.8.3"
  }
 },
 "nbformat": 4,
 "nbformat_minor": 4
}
